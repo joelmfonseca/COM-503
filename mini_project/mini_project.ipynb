{
 "cells": [
  {
   "cell_type": "markdown",
   "metadata": {},
   "source": [
    "# Description of the mini-project\n",
    "\n",
    "## Dataset\n",
    "\n",
    "In this mini-project we will work with a dataset used in the *EE-490 Lab in Data Science* course. It is composed of CO$_2$ measurements taken from a pool of 46 cheap but inaccurate sensors deployed in the city of Zurich. In addition, we also have access to temperature and humidity measurements, the altitude of the sensor as well as the average daily wind pattern for the city.\n",
    "\n",
    "## Prior Knowledge\n",
    "\n",
    "Measurements highly depends on the temperature, the humidity, the wind, the altitude and the level of traffic around the site. For example, a sensor that is located in a mountain with high altitude and exposed to strong winds is expected to have a much lower and uniform level of CO$_2$ compared to another sensor that is located near the center of the city and close to a busy industrial zone exposed to high traffic activity. We also know that there is a strong dependence of the CO$_2$ measurements on the temperature and the humidity.\n",
    "\n",
    "## Assumption\n",
    "\n",
    "Sensors in similar conditions are expected to have similar measurements.\n",
    "\n",
    "## Issue\n",
    "\n",
    "It might be the case that one sensor suddenly begins to take wrong measurements. The detection of faulty sensors is done by an external domain expert. Then, our job consists in curate the CO$_2$ measurements for that particular sensor through our regression model.\n",
    "\n",
    "## Goal\n",
    "\n",
    "Fit a linear regression model to the CO$_2$ measurements based on the aforementioned features. Do a performance evaluation between several models by comparing the fitting time and the goodness of fit.\n",
    "\n",
    "## Proposed solution and structure\n",
    "\n",
    "Our proposed solution can be decomposed in the following parts:\n",
    "\n",
    "* preprocessing: features come in different files, we need to aggregate them and make sure the data comes exempt from missing values or any defect.\n",
    "* faulty sensor modeling: in order to test our model's ability to fit the lost measurements, we need to model the faulty sensors. In this way we will be able to compare our prediction against the true measurements.\n",
    "* performance evaluation: compare the different models and select the most appropriate one."
   ]
  },
  {
   "cell_type": "code",
   "execution_count": 1,
   "metadata": {},
   "outputs": [],
   "source": [
    "import numpy as np\n",
    "import pandas as pd\n",
    "import datetime\n",
    "import matplotlib.pyplot as plt\n",
    "from sklearn import cluster, decomposition, linear_model\n",
    "import array\n",
    "from tqdm import tqdm_notebook as tqdm"
   ]
  },
  {
   "cell_type": "markdown",
   "metadata": {},
   "source": [
    "## Preprocessing"
   ]
  },
  {
   "cell_type": "code",
   "execution_count": 17,
   "metadata": {},
   "outputs": [
    {
     "data": {
      "application/vnd.jupyter.widget-view+json": {
       "model_id": "d7b50b0e85da46569227911171aa132b",
       "version_major": 2,
       "version_minor": 0
      },
      "text/plain": [
       "HBox(children=(IntProgress(value=0, max=46), HTML(value='')))"
      ]
     },
     "metadata": {},
     "output_type": "display_data"
    },
    {
     "name": "stdout",
     "output_type": "stream",
     "text": [
      "\n"
     ]
    }
   ],
   "source": [
    "# Load the data\n",
    "CO2_measurement = pd.read_csv('data/CO2_sensor_measurements.csv', sep='\\t')\n",
    "zurich_average_wind = pd.read_csv('data/zurich_average_wind.csv', sep='\\t')\n",
    "zurich_temp_humidity= pd.read_csv('data/temperature_humidity.csv', sep='\\t')\n",
    "sensors_metadata = pd.read_csv('data/sensors_metadata.csv', sep='\\t') \n",
    "\n",
    "# Some values are missing, that is why we will interpolate them by taking the average over an interval of 30min.\n",
    "# We will also aggregate all the information of CO2 measurements, temperature and humidity into one single \n",
    "# dataframe for more practicality.\n",
    "\n",
    "# interpolate CO2_measurement\n",
    "CO2_measurement = CO2_measurement.interpolate().set_index('timestamp')\n",
    "CO2_measurement.index = pd.to_datetime(CO2_measurement.index)\n",
    "grouper = CO2_measurement.groupby([pd.Grouper(freq='30Min'), 'LocationName', 'SensorUnit_ID'])\n",
    "grouper = grouper.mean()\n",
    "\n",
    "\n",
    "# interpolate temperature and humidity\n",
    "zurich_temp_humidity = zurich_temp_humidity.interpolate().set_index('Timestamp')\n",
    "zurich_temp_humidity.index.names = ['timestamp']\n",
    "zurich_temp_humidity.index = pd.to_datetime(zurich_temp_humidity.index)\n",
    "zurich_temp_humidity = zurich_temp_humidity.resample('30Min').mean()\n",
    "\n",
    "# merge the two dataframes\n",
    "grouper = grouper.reset_index()\n",
    "mth = pd.DataFrame()\n",
    "for e in tqdm(zurich_temp_humidity.columns[::2]):\n",
    "    id_ = int(e.split('.')[0])\n",
    "    df = zurich_temp_humidity[['{}.temperature'.format(id_), '{}.humidity'.format(id_)]].rename(\n",
    "        columns={\n",
    "            '{}.temperature'.format(id_): 'temperature',\n",
    "            '{}.humidity'.format(id_):'humidity'\n",
    "        }\n",
    "    )\n",
    "    df['SensorUnit_ID'] = id_\n",
    "    mth = mth.append(grouper.merge(df.reset_index(), on=['timestamp', 'SensorUnit_ID'])) \n",
    "mth = mth.set_index('timestamp')"
   ]
  },
  {
   "cell_type": "code",
   "execution_count": 18,
   "metadata": {},
   "outputs": [
    {
     "data": {
      "text/html": [
       "<div>\n",
       "<style scoped>\n",
       "    .dataframe tbody tr th:only-of-type {\n",
       "        vertical-align: middle;\n",
       "    }\n",
       "\n",
       "    .dataframe tbody tr th {\n",
       "        vertical-align: top;\n",
       "    }\n",
       "\n",
       "    .dataframe thead th {\n",
       "        text-align: right;\n",
       "    }\n",
       "</style>\n",
       "<table border=\"1\" class=\"dataframe\">\n",
       "  <thead>\n",
       "    <tr style=\"text-align: right;\">\n",
       "      <th></th>\n",
       "      <th>LocationName</th>\n",
       "      <th>SensorUnit_ID</th>\n",
       "      <th>CO2</th>\n",
       "      <th>temperature</th>\n",
       "      <th>humidity</th>\n",
       "    </tr>\n",
       "    <tr>\n",
       "      <th>timestamp</th>\n",
       "      <th></th>\n",
       "      <th></th>\n",
       "      <th></th>\n",
       "      <th></th>\n",
       "      <th></th>\n",
       "    </tr>\n",
       "  </thead>\n",
       "  <tbody>\n",
       "    <tr>\n",
       "      <th>2017-10-01 00:00:00</th>\n",
       "      <td>ZGHD</td>\n",
       "      <td>1014</td>\n",
       "      <td>595.004391</td>\n",
       "      <td>11.396667</td>\n",
       "      <td>92.440806</td>\n",
       "    </tr>\n",
       "    <tr>\n",
       "      <th>2017-10-01 00:30:00</th>\n",
       "      <td>ZGHD</td>\n",
       "      <td>1014</td>\n",
       "      <td>597.017879</td>\n",
       "      <td>11.303333</td>\n",
       "      <td>91.625097</td>\n",
       "    </tr>\n",
       "    <tr>\n",
       "      <th>2017-10-01 01:00:00</th>\n",
       "      <td>ZGHD</td>\n",
       "      <td>1014</td>\n",
       "      <td>596.487010</td>\n",
       "      <td>11.240000</td>\n",
       "      <td>91.096761</td>\n",
       "    </tr>\n",
       "    <tr>\n",
       "      <th>2017-10-01 01:30:00</th>\n",
       "      <td>ZGHD</td>\n",
       "      <td>1014</td>\n",
       "      <td>598.787639</td>\n",
       "      <td>11.260000</td>\n",
       "      <td>91.275734</td>\n",
       "    </tr>\n",
       "    <tr>\n",
       "      <th>2017-10-01 02:00:00</th>\n",
       "      <td>ZGHD</td>\n",
       "      <td>1014</td>\n",
       "      <td>595.366394</td>\n",
       "      <td>11.285000</td>\n",
       "      <td>91.003937</td>\n",
       "    </tr>\n",
       "  </tbody>\n",
       "</table>\n",
       "</div>"
      ],
      "text/plain": [
       "                    LocationName  SensorUnit_ID         CO2  temperature  \\\n",
       "timestamp                                                                  \n",
       "2017-10-01 00:00:00         ZGHD           1014  595.004391    11.396667   \n",
       "2017-10-01 00:30:00         ZGHD           1014  597.017879    11.303333   \n",
       "2017-10-01 01:00:00         ZGHD           1014  596.487010    11.240000   \n",
       "2017-10-01 01:30:00         ZGHD           1014  598.787639    11.260000   \n",
       "2017-10-01 02:00:00         ZGHD           1014  595.366394    11.285000   \n",
       "\n",
       "                      humidity  \n",
       "timestamp                       \n",
       "2017-10-01 00:00:00  92.440806  \n",
       "2017-10-01 00:30:00  91.625097  \n",
       "2017-10-01 01:00:00  91.096761  \n",
       "2017-10-01 01:30:00  91.275734  \n",
       "2017-10-01 02:00:00  91.003937  "
      ]
     },
     "execution_count": 18,
     "metadata": {},
     "output_type": "execute_result"
    }
   ],
   "source": [
    "mth.head()"
   ]
  },
  {
   "cell_type": "code",
   "execution_count": null,
   "metadata": {},
   "outputs": [],
   "source": []
  }
 ],
 "metadata": {
  "kernelspec": {
   "display_name": "Python 3",
   "language": "python",
   "name": "python3"
  },
  "language_info": {
   "codemirror_mode": {
    "name": "ipython",
    "version": 3
   },
   "file_extension": ".py",
   "mimetype": "text/x-python",
   "name": "python",
   "nbconvert_exporter": "python",
   "pygments_lexer": "ipython3",
   "version": "3.7.1"
  }
 },
 "nbformat": 4,
 "nbformat_minor": 2
}
