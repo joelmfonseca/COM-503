{
 "cells": [
  {
   "cell_type": "markdown",
   "metadata": {},
   "source": [
    "# Description of the mini-project\n",
    "\n",
    "## Dataset\n",
    "\n",
    "In this mini-project we will work with a dataset used in the *EE-490 Lab in Data Science* course. It is composed of CO2 measurements taken from a pool of 46 cheap but inaccurate sensors deployed in the city of Zurich. In addition, we also have access to temperature and humidity measurements, the altitude of the sensor as well as the average daily wind pattern for the city.\n",
    "\n",
    "## Prior Knowledge\n",
    "\n",
    "Measurements highly depends on the temperature, the humidity, the wind, the altitude and the level of traffic around the site. For example, a sensor that is located in a mountain with high altitude and exposed to strong winds is expected to have a much lower and uniform level of CO2 compared to another sensor that is located near the center of the city and close to a busy industrial zone exposed to high traffic activity. We also know that there is a strong dependence of the CO2 measurements on the temperature and the humidity.\n",
    "\n",
    "## Assumption\n",
    "\n",
    "Sensors in similar conditions are expected to have similar measurements.\n",
    "\n",
    "## Issue\n",
    "\n",
    "It might be the case that one sensor suddenly begins to take wrong measurements. The detection of faulty sensors is done by an external domain expert. Then, our job consists in curate the CO2 measurements for that particular sensor through our regression model.\n",
    "\n",
    "## Goal\n",
    "\n",
    "Fit a linear regression model to the CO2 measurements based on the aforementioned features. Do a performance evaluation between several models by comparing the fitting time and the goodness of fit.\n",
    "\n",
    "## Proposed solution and structure\n",
    "\n",
    "Our proposed solution can be decomposed in the following parts:\n",
    "\n",
    "* Preprocessing: features come in different files, we need to aggregate them and make sure the data comes exempt from missing values or any defect. K-means is used to optimally group sensor that are in similar conditions, such as altitude and wind exposure.\n",
    "* Faulty sensor modeling: in order to test our model's ability to fit the lost measurements, we need to model the faulty sensors. In this way we will be able to compare our prediction against the true measurements.\n",
    "* Performance evaluation: compare the different models and select the most appropriate one."
   ]
  },
  {
   "cell_type": "code",
   "execution_count": 1,
   "metadata": {},
   "outputs": [],
   "source": [
    "%load_ext autoreload"
   ]
  },
  {
   "cell_type": "code",
   "execution_count": 2,
   "metadata": {},
   "outputs": [],
   "source": [
    "%autoreload 2"
   ]
  },
  {
   "cell_type": "code",
   "execution_count": 3,
   "metadata": {},
   "outputs": [],
   "source": [
    "import pandas as pd\n",
    "from tqdm import tqdm_notebook as tqdm\n",
    "\n",
    "from functions import *"
   ]
  },
  {
   "cell_type": "markdown",
   "metadata": {},
   "source": [
    "## Preprocessing\n",
    "\n",
    "### Merging CO2 measurements, temperature and humidity in a single dataframe."
   ]
  },
  {
   "cell_type": "code",
   "execution_count": 4,
   "metadata": {},
   "outputs": [
    {
     "data": {
      "application/vnd.jupyter.widget-view+json": {
       "model_id": "71f6ac8d48db4e05b0fec211f0a17586",
       "version_major": 2,
       "version_minor": 0
      },
      "text/plain": [
       "HBox(children=(IntProgress(value=0, max=46), HTML(value='')))"
      ]
     },
     "metadata": {},
     "output_type": "display_data"
    },
    {
     "name": "stdout",
     "output_type": "stream",
     "text": [
      "\n"
     ]
    }
   ],
   "source": [
    "# Load the data\n",
    "CO2_measurement = pd.read_csv('data/CO2_sensor_measurements.csv', sep='\\t')\n",
    "zurich_average_wind = pd.read_csv('data/zurich_average_wind.csv', sep='\\t')\n",
    "zurich_temp_humidity= pd.read_csv('data/temperature_humidity.csv', sep='\\t')\n",
    "sensors_metadata = pd.read_csv('data/sensors_metadata.csv', sep='\\t') \n",
    "\n",
    "# Some values are missing, that is why we will interpolate them by taking the average over an interval of 30min.\n",
    "# We will also aggregate all the information of CO2 measurements, temperature and humidity into one single \n",
    "# dataframe for more practicality.\n",
    "\n",
    "# interpolate CO2_measurement\n",
    "CO2_measurement = CO2_measurement.interpolate().set_index('timestamp')\n",
    "CO2_measurement.index = pd.to_datetime(CO2_measurement.index)\n",
    "grouper = CO2_measurement.groupby([pd.Grouper(freq='30Min'), 'LocationName', 'SensorUnit_ID'])\n",
    "grouper = grouper.mean()\n",
    "\n",
    "\n",
    "# interpolate temperature and humidity\n",
    "zurich_temp_humidity = zurich_temp_humidity.interpolate().set_index('Timestamp')\n",
    "zurich_temp_humidity.index.names = ['timestamp']\n",
    "zurich_temp_humidity.index = pd.to_datetime(zurich_temp_humidity.index)\n",
    "zurich_temp_humidity = zurich_temp_humidity.resample('30Min').mean()\n",
    "\n",
    "# merge the two dataframes\n",
    "grouper = grouper.reset_index()\n",
    "mth = pd.DataFrame()\n",
    "for e in tqdm(zurich_temp_humidity.columns[::2]):\n",
    "    id_ = int(e.split('.')[0])\n",
    "    df = zurich_temp_humidity[['{}.temperature'.format(id_), '{}.humidity'.format(id_)]].rename(\n",
    "        columns={\n",
    "            '{}.temperature'.format(id_): 'temperature',\n",
    "            '{}.humidity'.format(id_):'humidity'\n",
    "        }\n",
    "    )\n",
    "    df['SensorUnit_ID'] = id_\n",
    "    mth = mth.append(grouper.merge(df.reset_index(), on=['timestamp', 'SensorUnit_ID'])) \n",
    "mth = mth.set_index('timestamp')"
   ]
  },
  {
   "cell_type": "code",
   "execution_count": 5,
   "metadata": {},
   "outputs": [
    {
     "data": {
      "text/html": [
       "<div>\n",
       "<style scoped>\n",
       "    .dataframe tbody tr th:only-of-type {\n",
       "        vertical-align: middle;\n",
       "    }\n",
       "\n",
       "    .dataframe tbody tr th {\n",
       "        vertical-align: top;\n",
       "    }\n",
       "\n",
       "    .dataframe thead th {\n",
       "        text-align: right;\n",
       "    }\n",
       "</style>\n",
       "<table border=\"1\" class=\"dataframe\">\n",
       "  <thead>\n",
       "    <tr style=\"text-align: right;\">\n",
       "      <th></th>\n",
       "      <th>LocationName</th>\n",
       "      <th>SensorUnit_ID</th>\n",
       "      <th>CO2</th>\n",
       "      <th>temperature</th>\n",
       "      <th>humidity</th>\n",
       "    </tr>\n",
       "    <tr>\n",
       "      <th>timestamp</th>\n",
       "      <th></th>\n",
       "      <th></th>\n",
       "      <th></th>\n",
       "      <th></th>\n",
       "      <th></th>\n",
       "    </tr>\n",
       "  </thead>\n",
       "  <tbody>\n",
       "    <tr>\n",
       "      <th>2017-10-01 00:00:00</th>\n",
       "      <td>ZGHD</td>\n",
       "      <td>1014</td>\n",
       "      <td>595.004391</td>\n",
       "      <td>11.396667</td>\n",
       "      <td>92.440806</td>\n",
       "    </tr>\n",
       "    <tr>\n",
       "      <th>2017-10-01 00:30:00</th>\n",
       "      <td>ZGHD</td>\n",
       "      <td>1014</td>\n",
       "      <td>597.017879</td>\n",
       "      <td>11.303333</td>\n",
       "      <td>91.625097</td>\n",
       "    </tr>\n",
       "    <tr>\n",
       "      <th>2017-10-01 01:00:00</th>\n",
       "      <td>ZGHD</td>\n",
       "      <td>1014</td>\n",
       "      <td>596.487010</td>\n",
       "      <td>11.240000</td>\n",
       "      <td>91.096761</td>\n",
       "    </tr>\n",
       "    <tr>\n",
       "      <th>2017-10-01 01:30:00</th>\n",
       "      <td>ZGHD</td>\n",
       "      <td>1014</td>\n",
       "      <td>598.787639</td>\n",
       "      <td>11.260000</td>\n",
       "      <td>91.275734</td>\n",
       "    </tr>\n",
       "    <tr>\n",
       "      <th>2017-10-01 02:00:00</th>\n",
       "      <td>ZGHD</td>\n",
       "      <td>1014</td>\n",
       "      <td>595.366394</td>\n",
       "      <td>11.285000</td>\n",
       "      <td>91.003937</td>\n",
       "    </tr>\n",
       "  </tbody>\n",
       "</table>\n",
       "</div>"
      ],
      "text/plain": [
       "                    LocationName  SensorUnit_ID         CO2  temperature  \\\n",
       "timestamp                                                                  \n",
       "2017-10-01 00:00:00         ZGHD           1014  595.004391    11.396667   \n",
       "2017-10-01 00:30:00         ZGHD           1014  597.017879    11.303333   \n",
       "2017-10-01 01:00:00         ZGHD           1014  596.487010    11.240000   \n",
       "2017-10-01 01:30:00         ZGHD           1014  598.787639    11.260000   \n",
       "2017-10-01 02:00:00         ZGHD           1014  595.366394    11.285000   \n",
       "\n",
       "                      humidity  \n",
       "timestamp                       \n",
       "2017-10-01 00:00:00  92.440806  \n",
       "2017-10-01 00:30:00  91.625097  \n",
       "2017-10-01 01:00:00  91.096761  \n",
       "2017-10-01 01:30:00  91.275734  \n",
       "2017-10-01 02:00:00  91.003937  "
      ]
     },
     "execution_count": 5,
     "metadata": {},
     "output_type": "execute_result"
    }
   ],
   "source": [
    "mth.head()"
   ]
  },
  {
   "cell_type": "markdown",
   "metadata": {},
   "source": [
    "### Applying K-means for the altitude and wind exposure.\n",
    "\n",
    "For the altitude: K-means will be computed based on two features of the sensor. Its altitude and its median of the CO2 measurements for the entire month."
   ]
  },
  {
   "cell_type": "code",
   "execution_count": 6,
   "metadata": {},
   "outputs": [
    {
     "data": {
      "text/html": [
       "<div>\n",
       "<style scoped>\n",
       "    .dataframe tbody tr th:only-of-type {\n",
       "        vertical-align: middle;\n",
       "    }\n",
       "\n",
       "    .dataframe tbody tr th {\n",
       "        vertical-align: top;\n",
       "    }\n",
       "\n",
       "    .dataframe thead th {\n",
       "        text-align: right;\n",
       "    }\n",
       "</style>\n",
       "<table border=\"1\" class=\"dataframe\">\n",
       "  <thead>\n",
       "    <tr style=\"text-align: right;\">\n",
       "      <th></th>\n",
       "      <th>median CO2</th>\n",
       "      <th>altitude</th>\n",
       "    </tr>\n",
       "    <tr>\n",
       "      <th>LocationName</th>\n",
       "      <th></th>\n",
       "      <th></th>\n",
       "    </tr>\n",
       "  </thead>\n",
       "  <tbody>\n",
       "    <tr>\n",
       "      <th>AJGR</th>\n",
       "      <td>334.785793</td>\n",
       "      <td>627.8</td>\n",
       "    </tr>\n",
       "    <tr>\n",
       "      <th>BSCR</th>\n",
       "      <td>475.316233</td>\n",
       "      <td>462.3</td>\n",
       "    </tr>\n",
       "    <tr>\n",
       "      <th>BUDF</th>\n",
       "      <td>422.793126</td>\n",
       "      <td>490.2</td>\n",
       "    </tr>\n",
       "    <tr>\n",
       "      <th>KBRL</th>\n",
       "      <td>410.100150</td>\n",
       "      <td>510.5</td>\n",
       "    </tr>\n",
       "    <tr>\n",
       "      <th>KTGM</th>\n",
       "      <td>444.395518</td>\n",
       "      <td>530.3</td>\n",
       "    </tr>\n",
       "  </tbody>\n",
       "</table>\n",
       "</div>"
      ],
      "text/plain": [
       "              median CO2  altitude\n",
       "LocationName                      \n",
       "AJGR          334.785793     627.8\n",
       "BSCR          475.316233     462.3\n",
       "BUDF          422.793126     490.2\n",
       "KBRL          410.100150     510.5\n",
       "KTGM          444.395518     530.3"
      ]
     },
     "execution_count": 6,
     "metadata": {},
     "output_type": "execute_result"
    }
   ],
   "source": [
    "# take the median of the CO2_measurements\n",
    "CO2_measurements = mth[['LocationName', 'CO2']].groupby([pd.Grouper(freq='1M'), 'LocationName'])\\\n",
    "                    .median().reset_index().drop('timestamp', 1).set_index('LocationName')\n",
    "\n",
    "# select only altitude from the metadata\n",
    "altitude = sensors_metadata[['LocationName', 'altitude']].set_index('LocationName')\n",
    "\n",
    "# join both features in a single dataframe\n",
    "ma = CO2_measurements.join(altitude)\n",
    "ma.rename(columns={'CO2': 'median CO2'}, inplace=True)\n",
    "ma.head()"
   ]
  },
  {
   "cell_type": "markdown",
   "metadata": {},
   "source": [
    "#### Determine the correct value of k"
   ]
  },
  {
   "cell_type": "code",
   "execution_count": 7,
   "metadata": {},
   "outputs": [
    {
     "data": {
      "image/png": "[encoded data removed]",
      "text/plain": [
       "<Figure size 720x360 with 1 Axes>"
      ]
     },
     "metadata": {
      "needs_background": "light"
     },
     "output_type": "display_data"
    }
   ],
   "source": [
    "plot_elbow_method(ma[['median CO2', 'altitude']])"
   ]
  },
  {
   "cell_type": "code",
   "execution_count": 8,
   "metadata": {},
   "outputs": [
    {
     "data": {
      "text/plain": [
       "\"X = ma.values\\nrange_k = range(2,11)\\nfor k in range_k:\\n    cluster = KMeans(n_clusters=k)\\n    cluster_labels = cluster.fit_predict(X)\\n    silhouette_avg = silhouette_score(X, cluster_labels)\\n    print('For K={}, the average silhouette score is {:1.5f}.'.format(k, silhouette_avg))\""
      ]
     },
     "execution_count": 8,
     "metadata": {},
     "output_type": "execute_result"
    }
   ],
   "source": [
    "\"\"\"X = ma.values\n",
    "range_k = range(2,11)\n",
    "for k in range_k:\n",
    "    cluster = KMeans(n_clusters=k)\n",
    "    cluster_labels = cluster.fit_predict(X)\n",
    "    silhouette_avg = silhouette_score(X, cluster_labels)\n",
    "    print('For K={}, the average silhouette score is {:1.5f}.'.format(k, silhouette_avg))\"\"\""
   ]
  },
  {
   "cell_type": "code",
   "execution_count": 9,
   "metadata": {},
   "outputs": [
    {
     "data": {
      "text/html": [
       "<div>\n",
       "<style scoped>\n",
       "    .dataframe tbody tr th:only-of-type {\n",
       "        vertical-align: middle;\n",
       "    }\n",
       "\n",
       "    .dataframe tbody tr th {\n",
       "        vertical-align: top;\n",
       "    }\n",
       "\n",
       "    .dataframe thead th {\n",
       "        text-align: right;\n",
       "    }\n",
       "</style>\n",
       "<table border=\"1\" class=\"dataframe\">\n",
       "  <thead>\n",
       "    <tr style=\"text-align: right;\">\n",
       "      <th></th>\n",
       "      <th>median CO2</th>\n",
       "      <th>altitude</th>\n",
       "      <th>altitude_cluster</th>\n",
       "    </tr>\n",
       "    <tr>\n",
       "      <th>LocationName</th>\n",
       "      <th></th>\n",
       "      <th></th>\n",
       "      <th></th>\n",
       "    </tr>\n",
       "  </thead>\n",
       "  <tbody>\n",
       "    <tr>\n",
       "      <th>AJGR</th>\n",
       "      <td>334.785793</td>\n",
       "      <td>627.8</td>\n",
       "      <td>9</td>\n",
       "    </tr>\n",
       "    <tr>\n",
       "      <th>BSCR</th>\n",
       "      <td>475.316233</td>\n",
       "      <td>462.3</td>\n",
       "      <td>8</td>\n",
       "    </tr>\n",
       "    <tr>\n",
       "      <th>BUDF</th>\n",
       "      <td>422.793126</td>\n",
       "      <td>490.2</td>\n",
       "      <td>3</td>\n",
       "    </tr>\n",
       "    <tr>\n",
       "      <th>KBRL</th>\n",
       "      <td>410.100150</td>\n",
       "      <td>510.5</td>\n",
       "      <td>3</td>\n",
       "    </tr>\n",
       "    <tr>\n",
       "      <th>KTGM</th>\n",
       "      <td>444.395518</td>\n",
       "      <td>530.3</td>\n",
       "      <td>3</td>\n",
       "    </tr>\n",
       "  </tbody>\n",
       "</table>\n",
       "</div>"
      ],
      "text/plain": [
       "              median CO2  altitude  altitude_cluster\n",
       "LocationName                                        \n",
       "AJGR          334.785793     627.8                 9\n",
       "BSCR          475.316233     462.3                 8\n",
       "BUDF          422.793126     490.2                 3\n",
       "KBRL          410.100150     510.5                 3\n",
       "KTGM          444.395518     530.3                 3"
      ]
     },
     "execution_count": 9,
     "metadata": {},
     "output_type": "execute_result"
    }
   ],
   "source": [
    "ma['altitude_cluster'] = KMeans(K_cluster_altitude).fit(ma[['median CO2', 'altitude']]).labels_\n",
    "ma.head()"
   ]
  },
  {
   "cell_type": "code",
   "execution_count": 10,
   "metadata": {},
   "outputs": [
    {
     "data": {
      "text/html": [
       "<div>\n",
       "<style scoped>\n",
       "    .dataframe tbody tr th:only-of-type {\n",
       "        vertical-align: middle;\n",
       "    }\n",
       "\n",
       "    .dataframe tbody tr th {\n",
       "        vertical-align: top;\n",
       "    }\n",
       "\n",
       "    .dataframe thead th {\n",
       "        text-align: right;\n",
       "    }\n",
       "</style>\n",
       "<table border=\"1\" class=\"dataframe\">\n",
       "  <thead>\n",
       "    <tr style=\"text-align: right;\">\n",
       "      <th></th>\n",
       "      <th>LocationName</th>\n",
       "      <th>SensorUnit_ID</th>\n",
       "      <th>CO2</th>\n",
       "      <th>temperature</th>\n",
       "      <th>humidity</th>\n",
       "      <th>median CO2</th>\n",
       "      <th>altitude</th>\n",
       "      <th>altitude_cluster</th>\n",
       "    </tr>\n",
       "    <tr>\n",
       "      <th>timestamp</th>\n",
       "      <th></th>\n",
       "      <th></th>\n",
       "      <th></th>\n",
       "      <th></th>\n",
       "      <th></th>\n",
       "      <th></th>\n",
       "      <th></th>\n",
       "      <th></th>\n",
       "    </tr>\n",
       "  </thead>\n",
       "  <tbody>\n",
       "    <tr>\n",
       "      <th>2017-10-01 00:00:00</th>\n",
       "      <td>ZGHD</td>\n",
       "      <td>1014</td>\n",
       "      <td>595.004391</td>\n",
       "      <td>11.396667</td>\n",
       "      <td>92.440806</td>\n",
       "      <td>614.578185</td>\n",
       "      <td>413.5</td>\n",
       "      <td>7</td>\n",
       "    </tr>\n",
       "    <tr>\n",
       "      <th>2017-10-01 00:30:00</th>\n",
       "      <td>ZGHD</td>\n",
       "      <td>1014</td>\n",
       "      <td>597.017879</td>\n",
       "      <td>11.303333</td>\n",
       "      <td>91.625097</td>\n",
       "      <td>614.578185</td>\n",
       "      <td>413.5</td>\n",
       "      <td>7</td>\n",
       "    </tr>\n",
       "    <tr>\n",
       "      <th>2017-10-01 01:00:00</th>\n",
       "      <td>ZGHD</td>\n",
       "      <td>1014</td>\n",
       "      <td>596.487010</td>\n",
       "      <td>11.240000</td>\n",
       "      <td>91.096761</td>\n",
       "      <td>614.578185</td>\n",
       "      <td>413.5</td>\n",
       "      <td>7</td>\n",
       "    </tr>\n",
       "    <tr>\n",
       "      <th>2017-10-01 01:30:00</th>\n",
       "      <td>ZGHD</td>\n",
       "      <td>1014</td>\n",
       "      <td>598.787639</td>\n",
       "      <td>11.260000</td>\n",
       "      <td>91.275734</td>\n",
       "      <td>614.578185</td>\n",
       "      <td>413.5</td>\n",
       "      <td>7</td>\n",
       "    </tr>\n",
       "    <tr>\n",
       "      <th>2017-10-01 02:00:00</th>\n",
       "      <td>ZGHD</td>\n",
       "      <td>1014</td>\n",
       "      <td>595.366394</td>\n",
       "      <td>11.285000</td>\n",
       "      <td>91.003937</td>\n",
       "      <td>614.578185</td>\n",
       "      <td>413.5</td>\n",
       "      <td>7</td>\n",
       "    </tr>\n",
       "  </tbody>\n",
       "</table>\n",
       "</div>"
      ],
      "text/plain": [
       "                    LocationName  SensorUnit_ID         CO2  temperature  \\\n",
       "timestamp                                                                  \n",
       "2017-10-01 00:00:00         ZGHD           1014  595.004391    11.396667   \n",
       "2017-10-01 00:30:00         ZGHD           1014  597.017879    11.303333   \n",
       "2017-10-01 01:00:00         ZGHD           1014  596.487010    11.240000   \n",
       "2017-10-01 01:30:00         ZGHD           1014  598.787639    11.260000   \n",
       "2017-10-01 02:00:00         ZGHD           1014  595.366394    11.285000   \n",
       "\n",
       "                      humidity  median CO2  altitude  altitude_cluster  \n",
       "timestamp                                                               \n",
       "2017-10-01 00:00:00  92.440806  614.578185     413.5                 7  \n",
       "2017-10-01 00:30:00  91.625097  614.578185     413.5                 7  \n",
       "2017-10-01 01:00:00  91.096761  614.578185     413.5                 7  \n",
       "2017-10-01 01:30:00  91.275734  614.578185     413.5                 7  \n",
       "2017-10-01 02:00:00  91.003937  614.578185     413.5                 7  "
      ]
     },
     "execution_count": 10,
     "metadata": {},
     "output_type": "execute_result"
    }
   ],
   "source": [
    "# merge to current dataframe\n",
    "mth = mth.reset_index().merge(ma.reset_index(), on='LocationName').set_index('timestamp')\n",
    "mth.head()"
   ]
  },
  {
   "cell_type": "markdown",
   "metadata": {},
   "source": [
    "For the wind exposure: we will perform a Principle Component Analysis (PCA) to reduce the dimension to 2 (instead of 48) for a single and perform a daily clustering based on these PCA coefficients."
   ]
  },
  {
   "cell_type": "code",
   "execution_count": 11,
   "metadata": {},
   "outputs": [
    {
     "data": {
      "text/html": [
       "<div>\n",
       "<style scoped>\n",
       "    .dataframe tbody tr th:only-of-type {\n",
       "        vertical-align: middle;\n",
       "    }\n",
       "\n",
       "    .dataframe tbody tr th {\n",
       "        vertical-align: top;\n",
       "    }\n",
       "\n",
       "    .dataframe thead th {\n",
       "        text-align: right;\n",
       "    }\n",
       "</style>\n",
       "<table border=\"1\" class=\"dataframe\">\n",
       "  <thead>\n",
       "    <tr style=\"text-align: right;\">\n",
       "      <th></th>\n",
       "      <th>component_1</th>\n",
       "      <th>component_2</th>\n",
       "    </tr>\n",
       "    <tr>\n",
       "      <th>timestamp</th>\n",
       "      <th></th>\n",
       "      <th></th>\n",
       "    </tr>\n",
       "  </thead>\n",
       "  <tbody>\n",
       "    <tr>\n",
       "      <th>2017-10-01</th>\n",
       "      <td>-4.106523</td>\n",
       "      <td>-1.663550</td>\n",
       "    </tr>\n",
       "    <tr>\n",
       "      <th>2017-10-02</th>\n",
       "      <td>-0.869377</td>\n",
       "      <td>4.207631</td>\n",
       "    </tr>\n",
       "    <tr>\n",
       "      <th>2017-10-03</th>\n",
       "      <td>8.023951</td>\n",
       "      <td>-8.309913</td>\n",
       "    </tr>\n",
       "    <tr>\n",
       "      <th>2017-10-04</th>\n",
       "      <td>-3.281485</td>\n",
       "      <td>-0.074907</td>\n",
       "    </tr>\n",
       "    <tr>\n",
       "      <th>2017-10-05</th>\n",
       "      <td>8.288445</td>\n",
       "      <td>11.560985</td>\n",
       "    </tr>\n",
       "  </tbody>\n",
       "</table>\n",
       "</div>"
      ],
      "text/plain": [
       "            component_1  component_2\n",
       "timestamp                           \n",
       "2017-10-01    -4.106523    -1.663550\n",
       "2017-10-02    -0.869377     4.207631\n",
       "2017-10-03     8.023951    -8.309913\n",
       "2017-10-04    -3.281485    -0.074907\n",
       "2017-10-05     8.288445    11.560985"
      ]
     },
     "execution_count": 11,
     "metadata": {},
     "output_type": "execute_result"
    }
   ],
   "source": [
    "# load the dataframe\n",
    "ZU_aw = zurich_average_wind.copy()\n",
    "ZU_aw.set_index('timestamp', inplace=True)\n",
    "ZU_aw.index = pd.to_datetime(ZU_aw.index)\n",
    "ZU_aw.head()\n",
    "\n",
    "# reorganize structure to perform dimension reduction\n",
    "daily_sample = pd.DataFrame(columns=list(range(48)))\n",
    "for index, row in ZU_aw.groupby(ZU_aw.index.day):\n",
    "    day = row.index[0].date()\n",
    "    daily_sample.loc[day] = row.values.T[0]\n",
    "\n",
    "# apply PCA decomposition\n",
    "pca = decomposition.PCA(n_components=2)\n",
    "pca_components = pd.DataFrame(columns=['component_1', 'component_2'], index=daily_sample.index)\n",
    "components_values = pca.fit_transform(daily_sample.values)\n",
    "pca_components.loc[:] = components_values\n",
    "pca_components.index.names = ['timestamp']\n",
    "pca_components.head()"
   ]
  },
  {
   "cell_type": "code",
   "execution_count": 12,
   "metadata": {},
   "outputs": [
    {
     "data": {
      "image/png": "[encoded data removed]",
      "text/plain": [
       "<Figure size 720x360 with 1 Axes>"
      ]
     },
     "metadata": {
      "needs_background": "light"
     },
     "output_type": "display_data"
    }
   ],
   "source": [
    "plot_elbow_method(pca_components[['component_1', 'component_2']])"
   ]
  },
  {
   "cell_type": "code",
   "execution_count": 13,
   "metadata": {},
   "outputs": [
    {
     "data": {
      "text/html": [
       "<div>\n",
       "<style scoped>\n",
       "    .dataframe tbody tr th:only-of-type {\n",
       "        vertical-align: middle;\n",
       "    }\n",
       "\n",
       "    .dataframe tbody tr th {\n",
       "        vertical-align: top;\n",
       "    }\n",
       "\n",
       "    .dataframe thead th {\n",
       "        text-align: right;\n",
       "    }\n",
       "</style>\n",
       "<table border=\"1\" class=\"dataframe\">\n",
       "  <thead>\n",
       "    <tr style=\"text-align: right;\">\n",
       "      <th></th>\n",
       "      <th>component_1</th>\n",
       "      <th>component_2</th>\n",
       "      <th>wind_cluster</th>\n",
       "    </tr>\n",
       "    <tr>\n",
       "      <th>timestamp</th>\n",
       "      <th></th>\n",
       "      <th></th>\n",
       "      <th></th>\n",
       "    </tr>\n",
       "  </thead>\n",
       "  <tbody>\n",
       "    <tr>\n",
       "      <th>2017-10-01</th>\n",
       "      <td>-4.106523</td>\n",
       "      <td>-1.663550</td>\n",
       "      <td>4</td>\n",
       "    </tr>\n",
       "    <tr>\n",
       "      <th>2017-10-02</th>\n",
       "      <td>-0.869377</td>\n",
       "      <td>4.207631</td>\n",
       "      <td>0</td>\n",
       "    </tr>\n",
       "    <tr>\n",
       "      <th>2017-10-03</th>\n",
       "      <td>8.023951</td>\n",
       "      <td>-8.309913</td>\n",
       "      <td>1</td>\n",
       "    </tr>\n",
       "    <tr>\n",
       "      <th>2017-10-04</th>\n",
       "      <td>-3.281485</td>\n",
       "      <td>-0.074907</td>\n",
       "      <td>0</td>\n",
       "    </tr>\n",
       "    <tr>\n",
       "      <th>2017-10-05</th>\n",
       "      <td>8.288445</td>\n",
       "      <td>11.560985</td>\n",
       "      <td>7</td>\n",
       "    </tr>\n",
       "  </tbody>\n",
       "</table>\n",
       "</div>"
      ],
      "text/plain": [
       "            component_1  component_2  wind_cluster\n",
       "timestamp                                         \n",
       "2017-10-01    -4.106523    -1.663550             4\n",
       "2017-10-02    -0.869377     4.207631             0\n",
       "2017-10-03     8.023951    -8.309913             1\n",
       "2017-10-04    -3.281485    -0.074907             0\n",
       "2017-10-05     8.288445    11.560985             7"
      ]
     },
     "execution_count": 13,
     "metadata": {},
     "output_type": "execute_result"
    }
   ],
   "source": [
    "pca_components['wind_cluster'] = KMeans(K_cluster_wind).fit(pca_components[['component_1', 'component_2']]).labels_\n",
    "pca_components.head()"
   ]
  },
  {
   "cell_type": "markdown",
   "metadata": {},
   "source": [
    "## Faulty sensor modeling\n",
    "\n",
    "Despite a request to the teaching staff for information about how to properly model a faulty sensor, no useful details have been provided to us as they were mainly guided by the domain experts. Thus, the only behaviour from which we can draw inspiration from is that of the sensor `ZSBN`. In addition, we know that the change occurs after October 24th. The figure below shows the results obtained from the past homework.\n",
    "\n",
    "![caption](figures/zsbn_sensor.png)\n",
    "\n",
    "Although this would require further investigation, we choose a simplistic approach: we will model a faulty sensor as one that undergoes a drift (up or down) and a rescale in amplitude. "
   ]
  },
  {
   "cell_type": "markdown",
   "metadata": {},
   "source": [
    "### Create faulty sensors\n",
    "\n",
    "We will generate faulty sensor from a few sensors: `AJGR`, `BSCR`, `ZSTA`, `ZUE`, `ZLMT`. We will also set the date of failure from the 24th of October. The main reason is that we will only lost about 25% of the data and the remaining 75% of the data will be used for training. We think that the percentage of training data plays a big role in the accuracy of the prediction."
   ]
  },
  {
   "cell_type": "code",
   "execution_count": 14,
   "metadata": {},
   "outputs": [
    {
     "data": {
      "image/png": "[encoded data removed]",
      "text/plain": [
       "<Figure size 1080x360 with 1 Axes>"
      ]
     },
     "metadata": {
      "needs_background": "light"
     },
     "output_type": "display_data"
    }
   ],
   "source": [
    "df_mth = mth.copy()\n",
    "faulty_sensors = ['AJGR', 'BSCR', 'ZSTA', 'ZUE', 'ZSBN', 'ZLMT']\n",
    "generate_faulty_sensors(df_mth, faulty_sensors)\n",
    "plot_faulty_sensor(df_mth, 'AJGR')"
   ]
  },
  {
   "cell_type": "markdown",
   "metadata": {},
   "source": [
    "## Performance Evaluation\n",
    "\n",
    "Compare various approaches with different flavours of regularization for linear regression. The quality of the model will be evaluated based on the MSE for the test set (lost measurement occuring after the 24th of October). For each approach we will test the following linear models:\n",
    "\n",
    "- Linear Regression\n",
    "- Lasso\n",
    "- Ridge\n",
    "- ElasticNet\n",
    "\n",
    "\n",
    "### 1) Naive Approach\n",
    "\n",
    "Rely solely on the faulty sensor."
   ]
  },
  {
   "cell_type": "code",
   "execution_count": 15,
   "metadata": {},
   "outputs": [],
   "source": [
    "naive_regression(df_mth, faulty_sensors)"
   ]
  },
  {
   "cell_type": "markdown",
   "metadata": {},
   "source": [
    "### 2) Add zone and altitude information (za)\n",
    "\n",
    "We will now make use of the zone of the sensor as well as the clustering on the altitude to train the linear regression."
   ]
  },
  {
   "cell_type": "code",
   "execution_count": 17,
   "metadata": {},
   "outputs": [
    {
     "name": "stdout",
     "output_type": "stream",
     "text": [
      "Print support sensors (from zone and altitude clustering) for each faulty sensor:\n",
      "\n",
      "AJGR: {'AJGR'}\n",
      "BSCR: {'BSCR', 'ZFRK', 'ZWCH', 'WRTW', 'ZBRC', 'ZAZG'}\n",
      "ZSTA: {'ZNEU', 'ZBLG', 'ZHRO', 'ZPRD', 'ZECB', 'ZSCH', 'ZSTA', 'ZSEF', 'ZTBN'}\n",
      "ZUE: {'ZUE', 'ZHRG', 'ZSBN'}\n",
      "ZSBN: {'ZUE', 'ZHRG', 'ZSBN'}\n",
      "ZLMT: {'ZLMT'}\n"
     ]
    }
   ],
   "source": [
    "za_regression(df_mth, ma, sensors_metadata, faulty_sensors)"
   ]
  },
  {
   "cell_type": "markdown",
   "metadata": {},
   "source": [
    "### 3) Add the wind pattern and time feature (wt)\n",
    "Make use of the different wind patterns to train a new regression model for each of the clusters. In addition, we will add another feature that corresponds to the time of the day (range between 0 and 47) and which represents the intervals of 30min."
   ]
  },
  {
   "cell_type": "code",
   "execution_count": 18,
   "metadata": {},
   "outputs": [],
   "source": [
    "# add wind cluster\n",
    "wind_cluster = pca_components[['wind_cluster']]\n",
    "wind_cluster.index = pd.to_datetime(wind_cluster.index)\n",
    "wind_cluster.columns = ['wind_cluster']\n",
    "wind_cluster = wind_cluster.append(pd.Series(wind_cluster.values[-1], index=wind_cluster.columns, name=(wind_cluster.index[-1] + datetime.timedelta(days=1))))\n",
    "wind_cluster= wind_cluster.resample('30Min').pad()\n",
    "df_complete = df_mth.copy()\n",
    "df_complete = df_complete.join(wind_cluster)\n",
    "# add time feature\n",
    "keys = pd.date_range('00:00:00', '23:30:00', freq='30Min').time\n",
    "values = list(range(48))\n",
    "dictionary = dict(zip(keys, values))\n",
    "df_complete['time'] = [dictionary[x] for x in df_complete.index.time]"
   ]
  },
  {
   "cell_type": "code",
   "execution_count": null,
   "metadata": {
    "scrolled": false
   },
   "outputs": [
    {
     "name": "stdout",
     "output_type": "stream",
     "text": [
      "Computing confidence intervals for AJGR sensor...\n",
      "Computing confidence intervals for BSCR sensor...\n",
      "Computing confidence intervals for ZSTA sensor...\n"
     ]
    }
   ],
   "source": [
    "wt_regression(df_complete, ma, sensors_metadata, faulty_sensors)"
   ]
  },
  {
   "cell_type": "markdown",
   "metadata": {},
   "source": [
    "### 4) Brute force\n",
    "\n",
    "Take everything into consideration without defining any particular cluster for wind or altitude."
   ]
  },
  {
   "cell_type": "code",
   "execution_count": null,
   "metadata": {},
   "outputs": [],
   "source": [
    "# add wind speed value to complete df\n",
    "df_complete['wind_speed'] = ZU_aw['wind_speed']"
   ]
  },
  {
   "cell_type": "code",
   "execution_count": null,
   "metadata": {},
   "outputs": [],
   "source": [
    "brute_force(df_complete, faulty_sensors)"
   ]
  },
  {
   "cell_type": "markdown",
   "metadata": {},
   "source": [
    "## Results\n",
    "\n",
    "### MSE and AIC/BIC criterions"
   ]
  },
  {
   "cell_type": "code",
   "execution_count": null,
   "metadata": {},
   "outputs": [],
   "source": [
    "regs = ['LinearRegression', 'Lasso', 'Ridge', 'ElasticNet']\n",
    "approaches = ['naive', 'za', 'brute_force','wt']"
   ]
  },
  {
   "cell_type": "code",
   "execution_count": null,
   "metadata": {
    "scrolled": false
   },
   "outputs": [],
   "source": [
    "regs = ['LinearRegression', 'Lasso', 'Ridge', 'ElasticNet']\n",
    "reg = ['LinearRegression']\n",
    "print_MSE(df_complete, faulty_sensors, ['naive', 'za', 'wt', 'brute_force'], reg)"
   ]
  },
  {
   "cell_type": "code",
   "execution_count": null,
   "metadata": {},
   "outputs": [],
   "source": [
    "print_criterions(df_complete, faulty_sensors, ['naive', 'wt'], reg)"
   ]
  },
  {
   "cell_type": "markdown",
   "metadata": {},
   "source": [
    "### Some visualisations and confidence intervals"
   ]
  },
  {
   "cell_type": "code",
   "execution_count": null,
   "metadata": {},
   "outputs": [],
   "source": [
    "plot_prediction(df_complete, 'ZUE', 'wt', 'LinearRegression')"
   ]
  },
  {
   "cell_type": "code",
   "execution_count": null,
   "metadata": {
    "scrolled": false
   },
   "outputs": [],
   "source": [
    "plot_zoomed_prediction(df_complete, 'AJGR', 'naive', 'LinearRegression', 'AJGR_naive', ci=True, correct_xticks=True)"
   ]
  },
  {
   "cell_type": "code",
   "execution_count": null,
   "metadata": {},
   "outputs": [],
   "source": [
    "plot_zoomed_prediction(df_complete, 'ZUE', 'wt', 'LinearRegression', 'ZUE_wt', ci=True)"
   ]
  },
  {
   "cell_type": "markdown",
   "metadata": {},
   "source": [
    "### Plots for presentation"
   ]
  },
  {
   "cell_type": "code",
   "execution_count": null,
   "metadata": {},
   "outputs": [],
   "source": [
    "plot_example_faulty_sensor(df_complete)"
   ]
  },
  {
   "cell_type": "code",
   "execution_count": null,
   "metadata": {},
   "outputs": [],
   "source": []
  },
  {
   "cell_type": "code",
   "execution_count": null,
   "metadata": {},
   "outputs": [],
   "source": [
    "plot_altitude_cluster_features(ma, faulty_sensors)"
   ]
  },
  {
   "cell_type": "code",
   "execution_count": null,
   "metadata": {},
   "outputs": [],
   "source": [
    "plot_wind_cluster_features(pca_components)"
   ]
  },
  {
   "cell_type": "markdown",
   "metadata": {},
   "source": [
    "## Bonus\n",
    "\n",
    "Here is additional material that will help complete answers or clarifiy some questions asked during the public defense.\n",
    "\n",
    "- What is your model ?"
   ]
  },
  {
   "cell_type": "code",
   "execution_count": null,
   "metadata": {},
   "outputs": [],
   "source": [
    "# Example of coef. for naive approach and AJGR sensor, recall that features are temperature\n",
    "# and humidity respectively.\n",
    "naive_regression(df_complete, ['AJGR'], show_coef=True)"
   ]
  },
  {
   "cell_type": "markdown",
   "metadata": {},
   "source": [
    "- How does the clustering look like for ZA and WT approaches ?"
   ]
  },
  {
   "cell_type": "code",
   "execution_count": null,
   "metadata": {},
   "outputs": [],
   "source": [
    "plot_altitude_cluster_features(ma, faulty_sensors, show_clustering=True)"
   ]
  },
  {
   "cell_type": "code",
   "execution_count": null,
   "metadata": {},
   "outputs": [],
   "source": [
    "plot_wind_cluster_features(pca_components, show_clustering=True)"
   ]
  }
 ],
 "metadata": {
  "kernelspec": {
   "display_name": "Python 3",
   "language": "python",
   "name": "python3"
  },
  "language_info": {
   "codemirror_mode": {
    "name": "ipython",
    "version": 3
   },
   "file_extension": ".py",
   "mimetype": "text/x-python",
   "name": "python",
   "nbconvert_exporter": "python",
   "pygments_lexer": "ipython3",
   "version": "3.7.1"
  }
 },
 "nbformat": 4,
 "nbformat_minor": 2
}
