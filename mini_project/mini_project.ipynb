{
 "cells": [
  {
   "cell_type": "markdown",
   "metadata": {},
   "source": [
    "# Description of the mini-project\n",
    "\n",
    "## Dataset\n",
    "\n",
    "In this mini-project we will work with a dataset used in the *EE-490 Lab in Data Science* course. It is composed of CO2 measurements taken from a pool of 46 cheap but inaccurate sensors deployed in the city of Zurich. In addition, we also have access to temperature and humidity measurements, the altitude of the sensor as well as the average daily wind pattern for the city.\n",
    "\n",
    "## Prior Knowledge\n",
    "\n",
    "Measurements highly depends on the temperature, the humidity, the wind, the altitude and the level of traffic around the site. For example, a sensor that is located in a mountain with high altitude and exposed to strong winds is expected to have a much lower and uniform level of CO2 compared to another sensor that is located near the center of the city and close to a busy industrial zone exposed to high traffic activity. We also know that there is a strong dependence of the CO2 measurements on the temperature and the humidity.\n",
    "\n",
    "## Assumption\n",
    "\n",
    "Sensors in similar conditions are expected to have similar measurements.\n",
    "\n",
    "## Issue\n",
    "\n",
    "It might be the case that one sensor suddenly begins to take wrong measurements. The detection of faulty sensors is done by an external domain expert. Then, our job consists in curate the CO2 measurements for that particular sensor through our regression model.\n",
    "\n",
    "## Goal\n",
    "\n",
    "Fit a linear regression model to the CO2 measurements based on the aforementioned features. Do a performance evaluation between several models by comparing the fitting time and the goodness of fit.\n",
    "\n",
    "## Proposed solution and structure\n",
    "\n",
    "Our proposed solution can be decomposed in the following parts:\n",
    "\n",
    "* Preprocessing: features come in different files, we need to aggregate them and make sure the data comes exempt from missing values or any defect. K-means is used to optimally group sensor that are in similar conditions, such as altitude and wind exposure.\n",
    "* Faulty sensor modeling: in order to test our model's ability to fit the lost measurements, we need to model the faulty sensors. In this way we will be able to compare our prediction against the true measurements.\n",
    "* Performance evaluation: compare the different models and select the most appropriate one."
   ]
  },
  {
   "cell_type": "code",
   "execution_count": 1,
   "metadata": {},
   "outputs": [],
   "source": [
    "%load_ext autoreload"
   ]
  },
  {
   "cell_type": "code",
   "execution_count": 2,
   "metadata": {},
   "outputs": [],
   "source": [
    "%autoreload 2"
   ]
  },
  {
   "cell_type": "code",
   "execution_count": 10,
   "metadata": {},
   "outputs": [],
   "source": [
    "import pandas as pd\n",
    "from tqdm import tqdm_notebook as tqdm\n",
    "\n",
    "from functions import *"
   ]
  },
  {
   "cell_type": "markdown",
   "metadata": {},
   "source": [
    "## Preprocessing\n",
    "\n",
    "### Merging CO2 measurements, temperature and humidity in a single dataframe."
   ]
  },
  {
   "cell_type": "code",
   "execution_count": 11,
   "metadata": {},
   "outputs": [
    {
     "data": {
      "application/vnd.jupyter.widget-view+json": {
       "model_id": "7bcb9c65d9f541caab285c8fd8cb76f4",
       "version_major": 2,
       "version_minor": 0
      },
      "text/plain": [
       "HBox(children=(IntProgress(value=0, max=46), HTML(value='')))"
      ]
     },
     "metadata": {},
     "output_type": "display_data"
    },
    {
     "name": "stdout",
     "output_type": "stream",
     "text": [
      "\n"
     ]
    }
   ],
   "source": [
    "# Load the data\n",
    "CO2_measurement = pd.read_csv('data/CO2_sensor_measurements.csv', sep='\\t')\n",
    "zurich_average_wind = pd.read_csv('data/zurich_average_wind.csv', sep='\\t')\n",
    "zurich_temp_humidity= pd.read_csv('data/temperature_humidity.csv', sep='\\t')\n",
    "sensors_metadata = pd.read_csv('data/sensors_metadata.csv', sep='\\t') \n",
    "\n",
    "# Some values are missing, that is why we will interpolate them by taking the average over an interval of 30min.\n",
    "# We will also aggregate all the information of CO2 measurements, temperature and humidity into one single \n",
    "# dataframe for more practicality.\n",
    "\n",
    "# interpolate CO2_measurement\n",
    "CO2_measurement = CO2_measurement.interpolate().set_index('timestamp')\n",
    "CO2_measurement.index = pd.to_datetime(CO2_measurement.index)\n",
    "grouper = CO2_measurement.groupby([pd.Grouper(freq='30Min'), 'LocationName', 'SensorUnit_ID'])\n",
    "grouper = grouper.mean()\n",
    "\n",
    "\n",
    "# interpolate temperature and humidity\n",
    "zurich_temp_humidity = zurich_temp_humidity.interpolate().set_index('Timestamp')\n",
    "zurich_temp_humidity.index.names = ['timestamp']\n",
    "zurich_temp_humidity.index = pd.to_datetime(zurich_temp_humidity.index)\n",
    "zurich_temp_humidity = zurich_temp_humidity.resample('30Min').mean()\n",
    "\n",
    "# merge the two dataframes\n",
    "grouper = grouper.reset_index()\n",
    "mth = pd.DataFrame()\n",
    "for e in tqdm(zurich_temp_humidity.columns[::2]):\n",
    "    id_ = int(e.split('.')[0])\n",
    "    df = zurich_temp_humidity[['{}.temperature'.format(id_), '{}.humidity'.format(id_)]].rename(\n",
    "        columns={\n",
    "            '{}.temperature'.format(id_): 'temperature',\n",
    "            '{}.humidity'.format(id_):'humidity'\n",
    "        }\n",
    "    )\n",
    "    df['SensorUnit_ID'] = id_\n",
    "    mth = mth.append(grouper.merge(df.reset_index(), on=['timestamp', 'SensorUnit_ID'])) \n",
    "mth = mth.set_index('timestamp')"
   ]
  },
  {
   "cell_type": "code",
   "execution_count": 12,
   "metadata": {},
   "outputs": [
    {
     "data": {
      "text/html": [
       "<div>\n",
       "<table border=\"1\" class=\"dataframe\">\n",
       "  <thead>\n",
       "    <tr style=\"text-align: right;\">\n",
       "      <th></th>\n",
       "      <th>LocationName</th>\n",
       "      <th>SensorUnit_ID</th>\n",
       "      <th>CO2</th>\n",
       "      <th>temperature</th>\n",
       "      <th>humidity</th>\n",
       "    </tr>\n",
       "    <tr>\n",
       "      <th>timestamp</th>\n",
       "      <th></th>\n",
       "      <th></th>\n",
       "      <th></th>\n",
       "      <th></th>\n",
       "      <th></th>\n",
       "    </tr>\n",
       "  </thead>\n",
       "  <tbody>\n",
       "    <tr>\n",
       "      <th>2017-10-01 00:00:00</th>\n",
       "      <td>ZGHD</td>\n",
       "      <td>1014</td>\n",
       "      <td>595.004391</td>\n",
       "      <td>11.396667</td>\n",
       "      <td>92.440806</td>\n",
       "    </tr>\n",
       "    <tr>\n",
       "      <th>2017-10-01 00:30:00</th>\n",
       "      <td>ZGHD</td>\n",
       "      <td>1014</td>\n",
       "      <td>597.017879</td>\n",
       "      <td>11.303333</td>\n",
       "      <td>91.625097</td>\n",
       "    </tr>\n",
       "    <tr>\n",
       "      <th>2017-10-01 01:00:00</th>\n",
       "      <td>ZGHD</td>\n",
       "      <td>1014</td>\n",
       "      <td>596.487010</td>\n",
       "      <td>11.240000</td>\n",
       "      <td>91.096761</td>\n",
       "    </tr>\n",
       "    <tr>\n",
       "      <th>2017-10-01 01:30:00</th>\n",
       "      <td>ZGHD</td>\n",
       "      <td>1014</td>\n",
       "      <td>598.787639</td>\n",
       "      <td>11.260000</td>\n",
       "      <td>91.275734</td>\n",
       "    </tr>\n",
       "    <tr>\n",
       "      <th>2017-10-01 02:00:00</th>\n",
       "      <td>ZGHD</td>\n",
       "      <td>1014</td>\n",
       "      <td>595.366394</td>\n",
       "      <td>11.285000</td>\n",
       "      <td>91.003937</td>\n",
       "    </tr>\n",
       "  </tbody>\n",
       "</table>\n",
       "</div>"
      ],
      "text/plain": [
       "                    LocationName  SensorUnit_ID         CO2  temperature  \\\n",
       "timestamp                                                                  \n",
       "2017-10-01 00:00:00         ZGHD           1014  595.004391    11.396667   \n",
       "2017-10-01 00:30:00         ZGHD           1014  597.017879    11.303333   \n",
       "2017-10-01 01:00:00         ZGHD           1014  596.487010    11.240000   \n",
       "2017-10-01 01:30:00         ZGHD           1014  598.787639    11.260000   \n",
       "2017-10-01 02:00:00         ZGHD           1014  595.366394    11.285000   \n",
       "\n",
       "                      humidity  \n",
       "timestamp                       \n",
       "2017-10-01 00:00:00  92.440806  \n",
       "2017-10-01 00:30:00  91.625097  \n",
       "2017-10-01 01:00:00  91.096761  \n",
       "2017-10-01 01:30:00  91.275734  \n",
       "2017-10-01 02:00:00  91.003937  "
      ]
     },
     "execution_count": 12,
     "metadata": {},
     "output_type": "execute_result"
    }
   ],
   "source": [
    "mth.head()"
   ]
  },
  {
   "cell_type": "markdown",
   "metadata": {},
   "source": [
    "### Applying K-means for the altitude and wind exposure.\n",
    "\n",
    "For the altitude: K-means will be computed based on two features of the sensor. Its altitude and its median of the CO2 measurements for the entire month."
   ]
  },
  {
   "cell_type": "code",
   "execution_count": 13,
   "metadata": {},
   "outputs": [
    {
     "data": {
      "text/html": [
       "<div>\n",
       "<table border=\"1\" class=\"dataframe\">\n",
       "  <thead>\n",
       "    <tr style=\"text-align: right;\">\n",
       "      <th></th>\n",
       "      <th>median CO2</th>\n",
       "      <th>altitude</th>\n",
       "    </tr>\n",
       "    <tr>\n",
       "      <th>LocationName</th>\n",
       "      <th></th>\n",
       "      <th></th>\n",
       "    </tr>\n",
       "  </thead>\n",
       "  <tbody>\n",
       "    <tr>\n",
       "      <th>AJGR</th>\n",
       "      <td>334.785793</td>\n",
       "      <td>627.8</td>\n",
       "    </tr>\n",
       "    <tr>\n",
       "      <th>BSCR</th>\n",
       "      <td>475.316233</td>\n",
       "      <td>462.3</td>\n",
       "    </tr>\n",
       "    <tr>\n",
       "      <th>BUDF</th>\n",
       "      <td>422.793126</td>\n",
       "      <td>490.2</td>\n",
       "    </tr>\n",
       "    <tr>\n",
       "      <th>KBRL</th>\n",
       "      <td>410.100150</td>\n",
       "      <td>510.5</td>\n",
       "    </tr>\n",
       "    <tr>\n",
       "      <th>KTGM</th>\n",
       "      <td>444.395518</td>\n",
       "      <td>530.3</td>\n",
       "    </tr>\n",
       "  </tbody>\n",
       "</table>\n",
       "</div>"
      ],
      "text/plain": [
       "              median CO2  altitude\n",
       "LocationName                      \n",
       "AJGR          334.785793     627.8\n",
       "BSCR          475.316233     462.3\n",
       "BUDF          422.793126     490.2\n",
       "KBRL          410.100150     510.5\n",
       "KTGM          444.395518     530.3"
      ]
     },
     "execution_count": 13,
     "metadata": {},
     "output_type": "execute_result"
    }
   ],
   "source": [
    "# take the median of the CO2_measurements\n",
    "CO2_measurements = mth[['LocationName', 'CO2']].groupby([pd.Grouper(freq='1M'), 'LocationName'])\\\n",
    "                    .median().reset_index().drop('timestamp', 1).set_index('LocationName')\n",
    "\n",
    "# select only altitude from the metadata\n",
    "altitude = sensors_metadata[['LocationName', 'altitude']].set_index('LocationName')\n",
    "\n",
    "# join both features in a single dataframe\n",
    "ma = CO2_measurements.join(altitude)\n",
    "ma.rename(columns={'CO2': 'median CO2'}, inplace=True)\n",
    "ma.head()"
   ]
  },
  {
   "cell_type": "markdown",
   "metadata": {},
   "source": [
    "#### Determine the correct value of k"
   ]
  },
  {
   "cell_type": "code",
   "execution_count": 14,
   "metadata": {},
   "outputs": [
    {
     "data": {
      "image/png": "[encoded data removed]",
      "text/plain": [
       "<Figure size 720x360 with 1 Axes>"
      ]
     },
     "metadata": {},
     "output_type": "display_data"
    }
   ],
   "source": [
    "plot_elbow_method(ma[['median CO2', 'altitude']])"
   ]
  },
  {
   "cell_type": "code",
   "execution_count": 11,
   "metadata": {},
   "outputs": [
    {
     "data": {
      "text/plain": [
       "\"X = ma.values\\nrange_k = range(2,11)\\nfor k in range_k:\\n    cluster = KMeans(n_clusters=k)\\n    cluster_labels = cluster.fit_predict(X)\\n    silhouette_avg = silhouette_score(X, cluster_labels)\\n    print('For K={}, the average silhouette score is {:1.5f}.'.format(k, silhouette_avg))\""
      ]
     },
     "execution_count": 11,
     "metadata": {},
     "output_type": "execute_result"
    }
   ],
   "source": [
    "\"\"\"X = ma.values\n",
    "range_k = range(2,11)\n",
    "for k in range_k:\n",
    "    cluster = KMeans(n_clusters=k)\n",
    "    cluster_labels = cluster.fit_predict(X)\n",
    "    silhouette_avg = silhouette_score(X, cluster_labels)\n",
    "    print('For K={}, the average silhouette score is {:1.5f}.'.format(k, silhouette_avg))\"\"\""
   ]
  },
  {
   "cell_type": "code",
   "execution_count": 12,
   "metadata": {},
   "outputs": [
    {
     "data": {
      "text/html": [
       "<div>\n",
       "<table border=\"1\" class=\"dataframe\">\n",
       "  <thead>\n",
       "    <tr style=\"text-align: right;\">\n",
       "      <th></th>\n",
       "      <th>median CO2</th>\n",
       "      <th>altitude</th>\n",
       "      <th>altitude_cluster</th>\n",
       "    </tr>\n",
       "    <tr>\n",
       "      <th>LocationName</th>\n",
       "      <th></th>\n",
       "      <th></th>\n",
       "      <th></th>\n",
       "    </tr>\n",
       "  </thead>\n",
       "  <tbody>\n",
       "    <tr>\n",
       "      <th>AJGR</th>\n",
       "      <td>334.785793</td>\n",
       "      <td>627.8</td>\n",
       "      <td>9</td>\n",
       "    </tr>\n",
       "    <tr>\n",
       "      <th>BSCR</th>\n",
       "      <td>475.316233</td>\n",
       "      <td>462.3</td>\n",
       "      <td>7</td>\n",
       "    </tr>\n",
       "    <tr>\n",
       "      <th>BUDF</th>\n",
       "      <td>422.793126</td>\n",
       "      <td>490.2</td>\n",
       "      <td>4</td>\n",
       "    </tr>\n",
       "    <tr>\n",
       "      <th>KBRL</th>\n",
       "      <td>410.100150</td>\n",
       "      <td>510.5</td>\n",
       "      <td>4</td>\n",
       "    </tr>\n",
       "    <tr>\n",
       "      <th>KTGM</th>\n",
       "      <td>444.395518</td>\n",
       "      <td>530.3</td>\n",
       "      <td>4</td>\n",
       "    </tr>\n",
       "  </tbody>\n",
       "</table>\n",
       "</div>"
      ],
      "text/plain": [
       "              median CO2  altitude  altitude_cluster\n",
       "LocationName                                        \n",
       "AJGR          334.785793     627.8                 9\n",
       "BSCR          475.316233     462.3                 7\n",
       "BUDF          422.793126     490.2                 4\n",
       "KBRL          410.100150     510.5                 4\n",
       "KTGM          444.395518     530.3                 4"
      ]
     },
     "execution_count": 12,
     "metadata": {},
     "output_type": "execute_result"
    }
   ],
   "source": [
    "ma['altitude_cluster'] = KMeans(K_cluster_altitude).fit(ma[['median CO2', 'altitude']]).labels_\n",
    "ma.head()"
   ]
  },
  {
   "cell_type": "code",
   "execution_count": 13,
   "metadata": {},
   "outputs": [
    {
     "data": {
      "text/html": [
       "<div>\n",
       "<table border=\"1\" class=\"dataframe\">\n",
       "  <thead>\n",
       "    <tr style=\"text-align: right;\">\n",
       "      <th></th>\n",
       "      <th>LocationName</th>\n",
       "      <th>SensorUnit_ID</th>\n",
       "      <th>CO2</th>\n",
       "      <th>temperature</th>\n",
       "      <th>humidity</th>\n",
       "      <th>median CO2</th>\n",
       "      <th>altitude</th>\n",
       "      <th>altitude_cluster</th>\n",
       "    </tr>\n",
       "    <tr>\n",
       "      <th>timestamp</th>\n",
       "      <th></th>\n",
       "      <th></th>\n",
       "      <th></th>\n",
       "      <th></th>\n",
       "      <th></th>\n",
       "      <th></th>\n",
       "      <th></th>\n",
       "      <th></th>\n",
       "    </tr>\n",
       "  </thead>\n",
       "  <tbody>\n",
       "    <tr>\n",
       "      <th>2017-10-01 00:00:00</th>\n",
       "      <td>ZGHD</td>\n",
       "      <td>1014</td>\n",
       "      <td>595.004391</td>\n",
       "      <td>11.396667</td>\n",
       "      <td>92.440806</td>\n",
       "      <td>614.578185</td>\n",
       "      <td>413.5</td>\n",
       "      <td>6</td>\n",
       "    </tr>\n",
       "    <tr>\n",
       "      <th>2017-10-01 00:30:00</th>\n",
       "      <td>ZGHD</td>\n",
       "      <td>1014</td>\n",
       "      <td>597.017879</td>\n",
       "      <td>11.303333</td>\n",
       "      <td>91.625097</td>\n",
       "      <td>614.578185</td>\n",
       "      <td>413.5</td>\n",
       "      <td>6</td>\n",
       "    </tr>\n",
       "    <tr>\n",
       "      <th>2017-10-01 01:00:00</th>\n",
       "      <td>ZGHD</td>\n",
       "      <td>1014</td>\n",
       "      <td>596.487010</td>\n",
       "      <td>11.240000</td>\n",
       "      <td>91.096761</td>\n",
       "      <td>614.578185</td>\n",
       "      <td>413.5</td>\n",
       "      <td>6</td>\n",
       "    </tr>\n",
       "    <tr>\n",
       "      <th>2017-10-01 01:30:00</th>\n",
       "      <td>ZGHD</td>\n",
       "      <td>1014</td>\n",
       "      <td>598.787639</td>\n",
       "      <td>11.260000</td>\n",
       "      <td>91.275734</td>\n",
       "      <td>614.578185</td>\n",
       "      <td>413.5</td>\n",
       "      <td>6</td>\n",
       "    </tr>\n",
       "    <tr>\n",
       "      <th>2017-10-01 02:00:00</th>\n",
       "      <td>ZGHD</td>\n",
       "      <td>1014</td>\n",
       "      <td>595.366394</td>\n",
       "      <td>11.285000</td>\n",
       "      <td>91.003937</td>\n",
       "      <td>614.578185</td>\n",
       "      <td>413.5</td>\n",
       "      <td>6</td>\n",
       "    </tr>\n",
       "  </tbody>\n",
       "</table>\n",
       "</div>"
      ],
      "text/plain": [
       "                    LocationName  SensorUnit_ID         CO2  temperature  \\\n",
       "timestamp                                                                  \n",
       "2017-10-01 00:00:00         ZGHD           1014  595.004391    11.396667   \n",
       "2017-10-01 00:30:00         ZGHD           1014  597.017879    11.303333   \n",
       "2017-10-01 01:00:00         ZGHD           1014  596.487010    11.240000   \n",
       "2017-10-01 01:30:00         ZGHD           1014  598.787639    11.260000   \n",
       "2017-10-01 02:00:00         ZGHD           1014  595.366394    11.285000   \n",
       "\n",
       "                      humidity  median CO2  altitude  altitude_cluster  \n",
       "timestamp                                                               \n",
       "2017-10-01 00:00:00  92.440806  614.578185     413.5                 6  \n",
       "2017-10-01 00:30:00  91.625097  614.578185     413.5                 6  \n",
       "2017-10-01 01:00:00  91.096761  614.578185     413.5                 6  \n",
       "2017-10-01 01:30:00  91.275734  614.578185     413.5                 6  \n",
       "2017-10-01 02:00:00  91.003937  614.578185     413.5                 6  "
      ]
     },
     "execution_count": 13,
     "metadata": {},
     "output_type": "execute_result"
    }
   ],
   "source": [
    "# merge the in to current dataframe\n",
    "mth = mth.reset_index().merge(ma.reset_index(), on='LocationName').set_index('timestamp')\n",
    "mth.head()"
   ]
  },
  {
   "cell_type": "markdown",
   "metadata": {},
   "source": [
    "For the wind exposure: we will perform a Principle Component Analysis (PCA) to reduce the dimension to 2 (instead of 48) for a single and perform a daily clustering based on these PCA coefficients."
   ]
  },
  {
   "cell_type": "code",
   "execution_count": 14,
   "metadata": {},
   "outputs": [
    {
     "data": {
      "text/html": [
       "<div>\n",
       "<table border=\"1\" class=\"dataframe\">\n",
       "  <thead>\n",
       "    <tr style=\"text-align: right;\">\n",
       "      <th></th>\n",
       "      <th>component_1</th>\n",
       "      <th>component_2</th>\n",
       "    </tr>\n",
       "    <tr>\n",
       "      <th>timestamp</th>\n",
       "      <th></th>\n",
       "      <th></th>\n",
       "    </tr>\n",
       "  </thead>\n",
       "  <tbody>\n",
       "    <tr>\n",
       "      <th>2017-10-01</th>\n",
       "      <td>-4.106523</td>\n",
       "      <td>-1.663550</td>\n",
       "    </tr>\n",
       "    <tr>\n",
       "      <th>2017-10-02</th>\n",
       "      <td>-0.869377</td>\n",
       "      <td>4.207631</td>\n",
       "    </tr>\n",
       "    <tr>\n",
       "      <th>2017-10-03</th>\n",
       "      <td>8.023951</td>\n",
       "      <td>-8.309913</td>\n",
       "    </tr>\n",
       "    <tr>\n",
       "      <th>2017-10-04</th>\n",
       "      <td>-3.281485</td>\n",
       "      <td>-0.074907</td>\n",
       "    </tr>\n",
       "    <tr>\n",
       "      <th>2017-10-05</th>\n",
       "      <td>8.288445</td>\n",
       "      <td>11.560985</td>\n",
       "    </tr>\n",
       "  </tbody>\n",
       "</table>\n",
       "</div>"
      ],
      "text/plain": [
       "            component_1  component_2\n",
       "timestamp                           \n",
       "2017-10-01    -4.106523    -1.663550\n",
       "2017-10-02    -0.869377     4.207631\n",
       "2017-10-03     8.023951    -8.309913\n",
       "2017-10-04    -3.281485    -0.074907\n",
       "2017-10-05     8.288445    11.560985"
      ]
     },
     "execution_count": 14,
     "metadata": {},
     "output_type": "execute_result"
    }
   ],
   "source": [
    "# load the dataframe\n",
    "ZU_aw = zurich_average_wind.copy()\n",
    "ZU_aw.set_index('timestamp', inplace=True)\n",
    "ZU_aw.index = pd.to_datetime(ZU_aw.index)\n",
    "ZU_aw.head()\n",
    "\n",
    "# reorganize structure to perform dimension reduction\n",
    "daily_sample = pd.DataFrame(columns=list(range(48)))\n",
    "for index, row in ZU_aw.groupby(ZU_aw.index.day):\n",
    "    day = row.index[0].date()\n",
    "    daily_sample.loc[day] = row.values.T[0]\n",
    "\n",
    "# apply PCA decomposition\n",
    "pca = decomposition.PCA(n_components=2)\n",
    "pca_components = pd.DataFrame(columns=['component_1', 'component_2'], index=daily_sample.index)\n",
    "components_values = pca.fit_transform(daily_sample.values)\n",
    "pca_components.loc[:] = components_values\n",
    "pca_components.index.names = ['timestamp']\n",
    "pca_components.head()"
   ]
  },
  {
   "cell_type": "code",
   "execution_count": 15,
   "metadata": {},
   "outputs": [
    {
     "data": {
      "image/png": "[encoded data removed]",
      "text/plain": [
       "<Figure size 720x360 with 1 Axes>"
      ]
     },
     "metadata": {},
     "output_type": "display_data"
    }
   ],
   "source": [
    "plot_elbow_method(pca_components[['component_1', 'component_2']])"
   ]
  },
  {
   "cell_type": "code",
   "execution_count": 16,
   "metadata": {},
   "outputs": [
    {
     "data": {
      "text/html": [
       "<div>\n",
       "<table border=\"1\" class=\"dataframe\">\n",
       "  <thead>\n",
       "    <tr style=\"text-align: right;\">\n",
       "      <th></th>\n",
       "      <th>component_1</th>\n",
       "      <th>component_2</th>\n",
       "      <th>wind_cluster</th>\n",
       "    </tr>\n",
       "    <tr>\n",
       "      <th>timestamp</th>\n",
       "      <th></th>\n",
       "      <th></th>\n",
       "      <th></th>\n",
       "    </tr>\n",
       "  </thead>\n",
       "  <tbody>\n",
       "    <tr>\n",
       "      <th>2017-10-01</th>\n",
       "      <td>-4.106523</td>\n",
       "      <td>-1.663550</td>\n",
       "      <td>1</td>\n",
       "    </tr>\n",
       "    <tr>\n",
       "      <th>2017-10-02</th>\n",
       "      <td>-0.869377</td>\n",
       "      <td>4.207631</td>\n",
       "      <td>7</td>\n",
       "    </tr>\n",
       "    <tr>\n",
       "      <th>2017-10-03</th>\n",
       "      <td>8.023951</td>\n",
       "      <td>-8.309913</td>\n",
       "      <td>2</td>\n",
       "    </tr>\n",
       "    <tr>\n",
       "      <th>2017-10-04</th>\n",
       "      <td>-3.281485</td>\n",
       "      <td>-0.074907</td>\n",
       "      <td>7</td>\n",
       "    </tr>\n",
       "    <tr>\n",
       "      <th>2017-10-05</th>\n",
       "      <td>8.288445</td>\n",
       "      <td>11.560985</td>\n",
       "      <td>4</td>\n",
       "    </tr>\n",
       "  </tbody>\n",
       "</table>\n",
       "</div>"
      ],
      "text/plain": [
       "            component_1  component_2  wind_cluster\n",
       "timestamp                                         \n",
       "2017-10-01    -4.106523    -1.663550             1\n",
       "2017-10-02    -0.869377     4.207631             7\n",
       "2017-10-03     8.023951    -8.309913             2\n",
       "2017-10-04    -3.281485    -0.074907             7\n",
       "2017-10-05     8.288445    11.560985             4"
      ]
     },
     "execution_count": 16,
     "metadata": {},
     "output_type": "execute_result"
    }
   ],
   "source": [
    "pca_components['wind_cluster'] = KMeans(K_cluster_wind).fit(pca_components[['component_1', 'component_2']]).labels_\n",
    "pca_components.head()"
   ]
  },
  {
   "cell_type": "markdown",
   "metadata": {},
   "source": [
    "## Faulty sensor modeling\n",
    "\n",
    "Despite a request to the teaching staff for information about how to properly model a faulty sensor, no useful details have been provided to us as they were mainly guided by the domain experts. Thus, the only behaviour from which we can draw inspiration from is that of the sensor `ZSBN`. In addition, we know that the change occurs after October 24th. The figure below shows the results obtained from the past homework.\n",
    "\n",
    "![caption](figures/zsbn_sensor.png)\n",
    "\n",
    "Although this would require further investigation, we choose a simplistic approach: we will model a faulty sensor as one that undergoes a drift (up or down) and a rescale in amplitude. "
   ]
  },
  {
   "cell_type": "markdown",
   "metadata": {},
   "source": [
    "### Create faulty sensors\n",
    "\n",
    "We will generate faulty sensor from three of them: `AJGR`, `BSCR`, `BUDF`. We will also set the date of failure from the 24th of October. The main reason is that we will only lost about 25% of the data and the remaining 75% of the data will be used for training. We think that the percentage of training data plays a big role in the accuracy of the prediction."
   ]
  },
  {
   "cell_type": "code",
   "execution_count": 19,
   "metadata": {},
   "outputs": [
    {
     "data": {
      "image/png": "[encoded data removed]",
      "text/plain": [
       "<Figure size 1080x360 with 1 Axes>"
      ]
     },
     "metadata": {},
     "output_type": "display_data"
    }
   ],
   "source": [
    "df_mth = mth.copy()\n",
    "faulty_sensors = ['AJGR', 'BSCR', 'ZSTA', 'ZUE', 'ZSBN', 'ZLMT']\n",
    "generate_faulty_sensors(df_mth, faulty_sensors)\n",
    "plot_faulty_sensor(df_mth, 'AJGR')"
   ]
  },
  {
   "cell_type": "markdown",
   "metadata": {},
   "source": [
    "## Information criterion\n"
   ]
  },
  {
   "cell_type": "code",
   "execution_count": 20,
   "metadata": {},
   "outputs": [],
   "source": [
    "aic = {}"
   ]
  },
  {
   "cell_type": "markdown",
   "metadata": {},
   "source": [
    "## Performance Evaluation\n",
    "\n",
    "### 1) Naive Approach with different methods implemented. These methods can be tweaked to get the best results\n",
    "Rely solely on the faulty sensor."
   ]
  },
  {
   "cell_type": "code",
   "execution_count": 21,
   "metadata": {},
   "outputs": [
    {
     "data": {
      "text/html": [
       "<div>\n",
       "<table border=\"1\" class=\"dataframe\">\n",
       "  <thead>\n",
       "    <tr style=\"text-align: right;\">\n",
       "      <th></th>\n",
       "      <th>LocationName</th>\n",
       "      <th>SensorUnit_ID</th>\n",
       "      <th>CO2</th>\n",
       "      <th>temperature</th>\n",
       "      <th>humidity</th>\n",
       "      <th>median CO2</th>\n",
       "      <th>altitude</th>\n",
       "      <th>altitude_cluster</th>\n",
       "      <th>groundtruth</th>\n",
       "    </tr>\n",
       "    <tr>\n",
       "      <th>timestamp</th>\n",
       "      <th></th>\n",
       "      <th></th>\n",
       "      <th></th>\n",
       "      <th></th>\n",
       "      <th></th>\n",
       "      <th></th>\n",
       "      <th></th>\n",
       "      <th></th>\n",
       "      <th></th>\n",
       "    </tr>\n",
       "  </thead>\n",
       "  <tbody>\n",
       "    <tr>\n",
       "      <th>2017-10-01 00:00:00</th>\n",
       "      <td>ZGHD</td>\n",
       "      <td>1014</td>\n",
       "      <td>595.004391</td>\n",
       "      <td>11.396667</td>\n",
       "      <td>92.440806</td>\n",
       "      <td>614.578185</td>\n",
       "      <td>413.5</td>\n",
       "      <td>6</td>\n",
       "      <td>NaN</td>\n",
       "    </tr>\n",
       "    <tr>\n",
       "      <th>2017-10-01 00:30:00</th>\n",
       "      <td>ZGHD</td>\n",
       "      <td>1014</td>\n",
       "      <td>597.017879</td>\n",
       "      <td>11.303333</td>\n",
       "      <td>91.625097</td>\n",
       "      <td>614.578185</td>\n",
       "      <td>413.5</td>\n",
       "      <td>6</td>\n",
       "      <td>NaN</td>\n",
       "    </tr>\n",
       "    <tr>\n",
       "      <th>2017-10-01 01:00:00</th>\n",
       "      <td>ZGHD</td>\n",
       "      <td>1014</td>\n",
       "      <td>596.487010</td>\n",
       "      <td>11.240000</td>\n",
       "      <td>91.096761</td>\n",
       "      <td>614.578185</td>\n",
       "      <td>413.5</td>\n",
       "      <td>6</td>\n",
       "      <td>NaN</td>\n",
       "    </tr>\n",
       "    <tr>\n",
       "      <th>2017-10-01 01:30:00</th>\n",
       "      <td>ZGHD</td>\n",
       "      <td>1014</td>\n",
       "      <td>598.787639</td>\n",
       "      <td>11.260000</td>\n",
       "      <td>91.275734</td>\n",
       "      <td>614.578185</td>\n",
       "      <td>413.5</td>\n",
       "      <td>6</td>\n",
       "      <td>NaN</td>\n",
       "    </tr>\n",
       "    <tr>\n",
       "      <th>2017-10-01 02:00:00</th>\n",
       "      <td>ZGHD</td>\n",
       "      <td>1014</td>\n",
       "      <td>595.366394</td>\n",
       "      <td>11.285000</td>\n",
       "      <td>91.003937</td>\n",
       "      <td>614.578185</td>\n",
       "      <td>413.5</td>\n",
       "      <td>6</td>\n",
       "      <td>NaN</td>\n",
       "    </tr>\n",
       "  </tbody>\n",
       "</table>\n",
       "</div>"
      ],
      "text/plain": [
       "                    LocationName  SensorUnit_ID         CO2  temperature  \\\n",
       "timestamp                                                                  \n",
       "2017-10-01 00:00:00         ZGHD           1014  595.004391    11.396667   \n",
       "2017-10-01 00:30:00         ZGHD           1014  597.017879    11.303333   \n",
       "2017-10-01 01:00:00         ZGHD           1014  596.487010    11.240000   \n",
       "2017-10-01 01:30:00         ZGHD           1014  598.787639    11.260000   \n",
       "2017-10-01 02:00:00         ZGHD           1014  595.366394    11.285000   \n",
       "\n",
       "                      humidity  median CO2  altitude  altitude_cluster  \\\n",
       "timestamp                                                                \n",
       "2017-10-01 00:00:00  92.440806  614.578185     413.5                 6   \n",
       "2017-10-01 00:30:00  91.625097  614.578185     413.5                 6   \n",
       "2017-10-01 01:00:00  91.096761  614.578185     413.5                 6   \n",
       "2017-10-01 01:30:00  91.275734  614.578185     413.5                 6   \n",
       "2017-10-01 02:00:00  91.003937  614.578185     413.5                 6   \n",
       "\n",
       "                     groundtruth  \n",
       "timestamp                         \n",
       "2017-10-01 00:00:00          NaN  \n",
       "2017-10-01 00:30:00          NaN  \n",
       "2017-10-01 01:00:00          NaN  \n",
       "2017-10-01 01:30:00          NaN  \n",
       "2017-10-01 02:00:00          NaN  "
      ]
     },
     "execution_count": 21,
     "metadata": {},
     "output_type": "execute_result"
    }
   ],
   "source": [
    "df_mth.head()"
   ]
  },
  {
   "cell_type": "code",
   "execution_count": 24,
   "metadata": {},
   "outputs": [],
   "source": [
    "naive_regression(df_mth, faulty_sensors)"
   ]
  },
  {
   "cell_type": "code",
   "execution_count": 25,
   "metadata": {},
   "outputs": [
    {
     "data": {
      "text/html": [
       "<div>\n",
       "<table border=\"1\" class=\"dataframe\">\n",
       "  <thead>\n",
       "    <tr style=\"text-align: right;\">\n",
       "      <th></th>\n",
       "      <th>LocationName</th>\n",
       "      <th>SensorUnit_ID</th>\n",
       "      <th>CO2</th>\n",
       "      <th>temperature</th>\n",
       "      <th>humidity</th>\n",
       "      <th>median CO2</th>\n",
       "      <th>altitude</th>\n",
       "      <th>altitude_cluster</th>\n",
       "      <th>groundtruth</th>\n",
       "      <th>naive_Ridge_prediction</th>\n",
       "      <th>naive_Lasso_prediction</th>\n",
       "      <th>naive_ElasticNet_prediction</th>\n",
       "      <th>naive_LinearRegression_prediction</th>\n",
       "      <th>naive_LinearRegression_lower_bound</th>\n",
       "      <th>naive_LinearRegression_upper_bound</th>\n",
       "    </tr>\n",
       "    <tr>\n",
       "      <th>timestamp</th>\n",
       "      <th></th>\n",
       "      <th></th>\n",
       "      <th></th>\n",
       "      <th></th>\n",
       "      <th></th>\n",
       "      <th></th>\n",
       "      <th></th>\n",
       "      <th></th>\n",
       "      <th></th>\n",
       "      <th></th>\n",
       "      <th></th>\n",
       "      <th></th>\n",
       "      <th></th>\n",
       "      <th></th>\n",
       "      <th></th>\n",
       "    </tr>\n",
       "  </thead>\n",
       "  <tbody>\n",
       "    <tr>\n",
       "      <th>2017-10-24 00:00:00</th>\n",
       "      <td>AJGR</td>\n",
       "      <td>1122</td>\n",
       "      <td>113.574027</td>\n",
       "      <td>6.753333</td>\n",
       "      <td>95.641973</td>\n",
       "      <td>334.785793</td>\n",
       "      <td>627.8</td>\n",
       "      <td>9</td>\n",
       "      <td>336.915833</td>\n",
       "      <td>341.156826</td>\n",
       "      <td>341.254125</td>\n",
       "      <td>341.261943</td>\n",
       "      <td>341.156703</td>\n",
       "      <td>323.762492</td>\n",
       "      <td>369.357423</td>\n",
       "    </tr>\n",
       "    <tr>\n",
       "      <th>2017-10-24 00:30:00</th>\n",
       "      <td>AJGR</td>\n",
       "      <td>1122</td>\n",
       "      <td>113.893428</td>\n",
       "      <td>6.850000</td>\n",
       "      <td>94.735664</td>\n",
       "      <td>334.785793</td>\n",
       "      <td>627.8</td>\n",
       "      <td>9</td>\n",
       "      <td>338.020819</td>\n",
       "      <td>340.730043</td>\n",
       "      <td>340.861304</td>\n",
       "      <td>340.866543</td>\n",
       "      <td>340.729889</td>\n",
       "      <td>324.124535</td>\n",
       "      <td>366.930001</td>\n",
       "    </tr>\n",
       "    <tr>\n",
       "      <th>2017-10-24 01:00:00</th>\n",
       "      <td>AJGR</td>\n",
       "      <td>1122</td>\n",
       "      <td>114.144441</td>\n",
       "      <td>6.900000</td>\n",
       "      <td>94.317319</td>\n",
       "      <td>334.785793</td>\n",
       "      <td>627.8</td>\n",
       "      <td>9</td>\n",
       "      <td>338.889211</td>\n",
       "      <td>340.539332</td>\n",
       "      <td>340.685222</td>\n",
       "      <td>340.689329</td>\n",
       "      <td>340.539165</td>\n",
       "      <td>322.860177</td>\n",
       "      <td>368.082537</td>\n",
       "    </tr>\n",
       "    <tr>\n",
       "      <th>2017-10-24 01:30:00</th>\n",
       "      <td>AJGR</td>\n",
       "      <td>1122</td>\n",
       "      <td>114.620098</td>\n",
       "      <td>6.843333</td>\n",
       "      <td>94.334167</td>\n",
       "      <td>334.785793</td>\n",
       "      <td>627.8</td>\n",
       "      <td>9</td>\n",
       "      <td>340.534774</td>\n",
       "      <td>340.483126</td>\n",
       "      <td>340.639064</td>\n",
       "      <td>340.642624</td>\n",
       "      <td>340.482949</td>\n",
       "      <td>322.810265</td>\n",
       "      <td>364.306457</td>\n",
       "    </tr>\n",
       "    <tr>\n",
       "      <th>2017-10-24 02:00:00</th>\n",
       "      <td>AJGR</td>\n",
       "      <td>1122</td>\n",
       "      <td>114.702936</td>\n",
       "      <td>6.700000</td>\n",
       "      <td>94.568136</td>\n",
       "      <td>334.785793</td>\n",
       "      <td>627.8</td>\n",
       "      <td>9</td>\n",
       "      <td>340.821359</td>\n",
       "      <td>340.454923</td>\n",
       "      <td>340.625136</td>\n",
       "      <td>340.628078</td>\n",
       "      <td>340.454733</td>\n",
       "      <td>323.375389</td>\n",
       "      <td>369.971505</td>\n",
       "    </tr>\n",
       "  </tbody>\n",
       "</table>\n",
       "</div>"
      ],
      "text/plain": [
       "                    LocationName  SensorUnit_ID         CO2  temperature  \\\n",
       "timestamp                                                                  \n",
       "2017-10-24 00:00:00         AJGR           1122  113.574027     6.753333   \n",
       "2017-10-24 00:30:00         AJGR           1122  113.893428     6.850000   \n",
       "2017-10-24 01:00:00         AJGR           1122  114.144441     6.900000   \n",
       "2017-10-24 01:30:00         AJGR           1122  114.620098     6.843333   \n",
       "2017-10-24 02:00:00         AJGR           1122  114.702936     6.700000   \n",
       "\n",
       "                      humidity  median CO2  altitude  altitude_cluster  \\\n",
       "timestamp                                                                \n",
       "2017-10-24 00:00:00  95.641973  334.785793     627.8                 9   \n",
       "2017-10-24 00:30:00  94.735664  334.785793     627.8                 9   \n",
       "2017-10-24 01:00:00  94.317319  334.785793     627.8                 9   \n",
       "2017-10-24 01:30:00  94.334167  334.785793     627.8                 9   \n",
       "2017-10-24 02:00:00  94.568136  334.785793     627.8                 9   \n",
       "\n",
       "                     groundtruth  naive_Ridge_prediction  \\\n",
       "timestamp                                                  \n",
       "2017-10-24 00:00:00   336.915833              341.156826   \n",
       "2017-10-24 00:30:00   338.020819              340.730043   \n",
       "2017-10-24 01:00:00   338.889211              340.539332   \n",
       "2017-10-24 01:30:00   340.534774              340.483126   \n",
       "2017-10-24 02:00:00   340.821359              340.454923   \n",
       "\n",
       "                     naive_Lasso_prediction  naive_ElasticNet_prediction  \\\n",
       "timestamp                                                                  \n",
       "2017-10-24 00:00:00              341.254125                   341.261943   \n",
       "2017-10-24 00:30:00              340.861304                   340.866543   \n",
       "2017-10-24 01:00:00              340.685222                   340.689329   \n",
       "2017-10-24 01:30:00              340.639064                   340.642624   \n",
       "2017-10-24 02:00:00              340.625136                   340.628078   \n",
       "\n",
       "                     naive_LinearRegression_prediction  \\\n",
       "timestamp                                                \n",
       "2017-10-24 00:00:00                         341.156703   \n",
       "2017-10-24 00:30:00                         340.729889   \n",
       "2017-10-24 01:00:00                         340.539165   \n",
       "2017-10-24 01:30:00                         340.482949   \n",
       "2017-10-24 02:00:00                         340.454733   \n",
       "\n",
       "                     naive_LinearRegression_lower_bound  \\\n",
       "timestamp                                                 \n",
       "2017-10-24 00:00:00                          323.762492   \n",
       "2017-10-24 00:30:00                          324.124535   \n",
       "2017-10-24 01:00:00                          322.860177   \n",
       "2017-10-24 01:30:00                          322.810265   \n",
       "2017-10-24 02:00:00                          323.375389   \n",
       "\n",
       "                     naive_LinearRegression_upper_bound  \n",
       "timestamp                                                \n",
       "2017-10-24 00:00:00                          369.357423  \n",
       "2017-10-24 00:30:00                          366.930001  \n",
       "2017-10-24 01:00:00                          368.082537  \n",
       "2017-10-24 01:30:00                          364.306457  \n",
       "2017-10-24 02:00:00                          369.971505  "
      ]
     },
     "execution_count": 25,
     "metadata": {},
     "output_type": "execute_result"
    }
   ],
   "source": [
    "df_mth[(df_mth['LocationName'] == 'AJGR') & (df_mth.index.day >=24)].head()"
   ]
  },
  {
   "cell_type": "code",
   "execution_count": 108,
   "metadata": {},
   "outputs": [
    {
     "data": {
      "image/png": "[encoded data removed]",
      "text/plain": [
       "<Figure size 720x360 with 1 Axes>"
      ]
     },
     "metadata": {},
     "output_type": "display_data"
    }
   ],
   "source": [
    "plot_zoomed_prediction(df_complete, 'AJGR', 'naive', 'LinearRegression', 'AJGR_naive', ci=True)"
   ]
  },
  {
   "cell_type": "code",
   "execution_count": 27,
   "metadata": {},
   "outputs": [
    {
     "data": {
      "text/plain": [
       "Text(0,0.5,'Component 2')"
      ]
     },
     "execution_count": 27,
     "metadata": {},
     "output_type": "execute_result"
    },
    {
     "data": {
      "image/png": "[encoded data removed]",
      "text/plain": [
       "<Figure size 1080x720 with 1 Axes>"
      ]
     },
     "metadata": {},
     "output_type": "display_data"
    }
   ],
   "source": [
    "fig, ax = plt.subplots(figsize=(15,10))\n",
    "ax.patch.set_alpha(0)\n",
    "fig.patch.set_alpha(0)\n",
    "pca_components.plot(x='component_1', y='component_2', kind='scatter', color='m', ax=ax)\n",
    "\n",
    "#plt.title('Sensor visualisation based on altitude and median CO2 measurement')\n",
    "plt.xlabel('Component 1')\n",
    "plt.ylabel('Component 2')"
   ]
  },
  {
   "cell_type": "code",
   "execution_count": 65,
   "metadata": {
    "scrolled": false
   },
   "outputs": [
    {
     "data": {
      "text/plain": [
       "\"regs = ['LinearRegression','Lasso', 'Ridge', 'ElasticNet']\\nsensor = 'AJGR'\\napproach = 'naive'\\nfor reg in regs:\\n    plot_prediction(df_mth, sensor, approach, reg)\\n    plot_zoomed_prediction(df_mth, sensor, approach, reg)\""
      ]
     },
     "execution_count": 65,
     "metadata": {},
     "output_type": "execute_result"
    }
   ],
   "source": [
    "\"\"\"regs = ['LinearRegression','Lasso', 'Ridge', 'ElasticNet']\n",
    "sensor = 'AJGR'\n",
    "approach = 'naive'\n",
    "for reg in regs:\n",
    "    plot_prediction(df_mth, sensor, approach, reg)\n",
    "    plot_zoomed_prediction(df_mth, sensor, approach, reg)\"\"\""
   ]
  },
  {
   "cell_type": "markdown",
   "metadata": {},
   "source": [
    "### 2) Add zone and altitude information (za) with other techniques (ridge, elastic net, lasso)\n",
    "We will now make use of the zone of the sensor as well as the clustering on the altitude to train the linear regression."
   ]
  },
  {
   "cell_type": "markdown",
   "metadata": {},
   "source": [
    "### Todo Parameters to tweak"
   ]
  },
  {
   "cell_type": "code",
   "execution_count": 30,
   "metadata": {},
   "outputs": [
    {
     "name": "stdout",
     "output_type": "stream",
     "text": [
      "AJGR {'AJGR'}\n",
      "BSCR {'ZBRC', 'ZWCH', 'BSCR', 'ZFRK', 'WRTW', 'ZAZG'}\n",
      "ZSTA {'ZPRD', 'ZSCH', 'ZTBN', 'ZSTA', 'ZHRO', 'ZBLG', 'ZECB', 'ZNEU', 'ZSEF'}\n",
      "ZUE {'ZHRG', 'ZUE', 'ZSBN'}\n",
      "ZSBN {'ZHRG', 'ZUE', 'ZSBN'}\n",
      "ZLMT {'ZLMT'}\n"
     ]
    }
   ],
   "source": [
    "za_regression(df_mth, ma, sensors_metadata, faulty_sensors)"
   ]
  },
  {
   "cell_type": "code",
   "execution_count": 31,
   "metadata": {
    "scrolled": true
   },
   "outputs": [
    {
     "data": {
      "text/plain": [
       "\"sensor = 'AJGR'\\ntechnique = 'za'\\n\\nfor method in methods :\\n    plot_prediction(df_mth, sensor, technique, method)\\n    plot_zoomed_prediction(df_mth, sensor, technique, method)\""
      ]
     },
     "execution_count": 31,
     "metadata": {},
     "output_type": "execute_result"
    }
   ],
   "source": [
    "\"\"\"sensor = 'AJGR'\n",
    "technique = 'za'\n",
    "\n",
    "for method in methods :\n",
    "    plot_prediction(df_mth, sensor, technique, method)\n",
    "    plot_zoomed_prediction(df_mth, sensor, technique, method)\"\"\""
   ]
  },
  {
   "cell_type": "code",
   "execution_count": 33,
   "metadata": {},
   "outputs": [],
   "source": []
  },
  {
   "cell_type": "markdown",
   "metadata": {},
   "source": [
    "### remove"
   ]
  },
  {
   "cell_type": "code",
   "execution_count": 34,
   "metadata": {},
   "outputs": [],
   "source": [
    "regs = ['LinearRegression', 'Lasso', 'Ridge', 'ElasticNet']\n",
    "approaches = ['naive', 'za', 'brute_force','wt']"
   ]
  },
  {
   "cell_type": "markdown",
   "metadata": {},
   "source": [
    "### 3) Add the wind pattern and time feature (wt)\n",
    "Make use of the different wind patterns to train a new regression model for each of the clusters. In addition, we will add another feature that corresponds to the time of the day (range between 0 and 47) and which represents the intervals of 30min."
   ]
  },
  {
   "cell_type": "code",
   "execution_count": 36,
   "metadata": {},
   "outputs": [
    {
     "data": {
      "text/html": [
       "<div>\n",
       "<table border=\"1\" class=\"dataframe\">\n",
       "  <thead>\n",
       "    <tr style=\"text-align: right;\">\n",
       "      <th></th>\n",
       "      <th>LocationName</th>\n",
       "      <th>SensorUnit_ID</th>\n",
       "      <th>CO2</th>\n",
       "      <th>temperature</th>\n",
       "      <th>humidity</th>\n",
       "      <th>median CO2</th>\n",
       "      <th>altitude</th>\n",
       "      <th>altitude_cluster</th>\n",
       "      <th>groundtruth</th>\n",
       "      <th>naive_Ridge_prediction</th>\n",
       "      <th>...</th>\n",
       "      <th>naive_ElasticNet_prediction</th>\n",
       "      <th>naive_LinearRegression_prediction</th>\n",
       "      <th>naive_LinearRegression_lower_bound</th>\n",
       "      <th>naive_LinearRegression_upper_bound</th>\n",
       "      <th>za_Ridge_prediction</th>\n",
       "      <th>za_Lasso_prediction</th>\n",
       "      <th>za_ElasticNet_prediction</th>\n",
       "      <th>za_LinearRegression_prediction</th>\n",
       "      <th>wind_cluster</th>\n",
       "      <th>time</th>\n",
       "    </tr>\n",
       "    <tr>\n",
       "      <th>timestamp</th>\n",
       "      <th></th>\n",
       "      <th></th>\n",
       "      <th></th>\n",
       "      <th></th>\n",
       "      <th></th>\n",
       "      <th></th>\n",
       "      <th></th>\n",
       "      <th></th>\n",
       "      <th></th>\n",
       "      <th></th>\n",
       "      <th></th>\n",
       "      <th></th>\n",
       "      <th></th>\n",
       "      <th></th>\n",
       "      <th></th>\n",
       "      <th></th>\n",
       "      <th></th>\n",
       "      <th></th>\n",
       "      <th></th>\n",
       "      <th></th>\n",
       "      <th></th>\n",
       "    </tr>\n",
       "  </thead>\n",
       "  <tbody>\n",
       "    <tr>\n",
       "      <th>2017-10-01</th>\n",
       "      <td>ZGHD</td>\n",
       "      <td>1014</td>\n",
       "      <td>595.004391</td>\n",
       "      <td>11.396667</td>\n",
       "      <td>92.440806</td>\n",
       "      <td>614.578185</td>\n",
       "      <td>413.5</td>\n",
       "      <td>6</td>\n",
       "      <td>NaN</td>\n",
       "      <td>NaN</td>\n",
       "      <td>...</td>\n",
       "      <td>NaN</td>\n",
       "      <td>NaN</td>\n",
       "      <td>NaN</td>\n",
       "      <td>NaN</td>\n",
       "      <td>NaN</td>\n",
       "      <td>NaN</td>\n",
       "      <td>NaN</td>\n",
       "      <td>NaN</td>\n",
       "      <td>1</td>\n",
       "      <td>0</td>\n",
       "    </tr>\n",
       "    <tr>\n",
       "      <th>2017-10-01</th>\n",
       "      <td>ZORL</td>\n",
       "      <td>1015</td>\n",
       "      <td>472.855962</td>\n",
       "      <td>10.513333</td>\n",
       "      <td>92.204295</td>\n",
       "      <td>481.065804</td>\n",
       "      <td>439.9</td>\n",
       "      <td>3</td>\n",
       "      <td>NaN</td>\n",
       "      <td>NaN</td>\n",
       "      <td>...</td>\n",
       "      <td>NaN</td>\n",
       "      <td>NaN</td>\n",
       "      <td>NaN</td>\n",
       "      <td>NaN</td>\n",
       "      <td>NaN</td>\n",
       "      <td>NaN</td>\n",
       "      <td>NaN</td>\n",
       "      <td>NaN</td>\n",
       "      <td>1</td>\n",
       "      <td>0</td>\n",
       "    </tr>\n",
       "    <tr>\n",
       "      <th>2017-10-01</th>\n",
       "      <td>ZTBN</td>\n",
       "      <td>1016</td>\n",
       "      <td>440.373573</td>\n",
       "      <td>11.040000</td>\n",
       "      <td>92.959605</td>\n",
       "      <td>466.948569</td>\n",
       "      <td>402.9</td>\n",
       "      <td>5</td>\n",
       "      <td>NaN</td>\n",
       "      <td>NaN</td>\n",
       "      <td>...</td>\n",
       "      <td>NaN</td>\n",
       "      <td>NaN</td>\n",
       "      <td>NaN</td>\n",
       "      <td>NaN</td>\n",
       "      <td>NaN</td>\n",
       "      <td>NaN</td>\n",
       "      <td>NaN</td>\n",
       "      <td>NaN</td>\n",
       "      <td>1</td>\n",
       "      <td>0</td>\n",
       "    </tr>\n",
       "    <tr>\n",
       "      <th>2017-10-01</th>\n",
       "      <td>ZHRG</td>\n",
       "      <td>1017</td>\n",
       "      <td>425.095878</td>\n",
       "      <td>11.040000</td>\n",
       "      <td>89.914205</td>\n",
       "      <td>439.161697</td>\n",
       "      <td>410.5</td>\n",
       "      <td>5</td>\n",
       "      <td>NaN</td>\n",
       "      <td>NaN</td>\n",
       "      <td>...</td>\n",
       "      <td>NaN</td>\n",
       "      <td>NaN</td>\n",
       "      <td>NaN</td>\n",
       "      <td>NaN</td>\n",
       "      <td>NaN</td>\n",
       "      <td>NaN</td>\n",
       "      <td>NaN</td>\n",
       "      <td>NaN</td>\n",
       "      <td>1</td>\n",
       "      <td>0</td>\n",
       "    </tr>\n",
       "    <tr>\n",
       "      <th>2017-10-01</th>\n",
       "      <td>ZSCH</td>\n",
       "      <td>1018</td>\n",
       "      <td>425.687625</td>\n",
       "      <td>11.370000</td>\n",
       "      <td>91.059886</td>\n",
       "      <td>448.509612</td>\n",
       "      <td>413.1</td>\n",
       "      <td>5</td>\n",
       "      <td>NaN</td>\n",
       "      <td>NaN</td>\n",
       "      <td>...</td>\n",
       "      <td>NaN</td>\n",
       "      <td>NaN</td>\n",
       "      <td>NaN</td>\n",
       "      <td>NaN</td>\n",
       "      <td>NaN</td>\n",
       "      <td>NaN</td>\n",
       "      <td>NaN</td>\n",
       "      <td>NaN</td>\n",
       "      <td>1</td>\n",
       "      <td>0</td>\n",
       "    </tr>\n",
       "  </tbody>\n",
       "</table>\n",
       "<p>5 rows × 21 columns</p>\n",
       "</div>"
      ],
      "text/plain": [
       "           LocationName  SensorUnit_ID         CO2  temperature   humidity  \\\n",
       "timestamp                                                                    \n",
       "2017-10-01         ZGHD           1014  595.004391    11.396667  92.440806   \n",
       "2017-10-01         ZORL           1015  472.855962    10.513333  92.204295   \n",
       "2017-10-01         ZTBN           1016  440.373573    11.040000  92.959605   \n",
       "2017-10-01         ZHRG           1017  425.095878    11.040000  89.914205   \n",
       "2017-10-01         ZSCH           1018  425.687625    11.370000  91.059886   \n",
       "\n",
       "            median CO2  altitude  altitude_cluster  groundtruth  \\\n",
       "timestamp                                                         \n",
       "2017-10-01  614.578185     413.5                 6          NaN   \n",
       "2017-10-01  481.065804     439.9                 3          NaN   \n",
       "2017-10-01  466.948569     402.9                 5          NaN   \n",
       "2017-10-01  439.161697     410.5                 5          NaN   \n",
       "2017-10-01  448.509612     413.1                 5          NaN   \n",
       "\n",
       "            naive_Ridge_prediction  ...   naive_ElasticNet_prediction  \\\n",
       "timestamp                           ...                                 \n",
       "2017-10-01                     NaN  ...                           NaN   \n",
       "2017-10-01                     NaN  ...                           NaN   \n",
       "2017-10-01                     NaN  ...                           NaN   \n",
       "2017-10-01                     NaN  ...                           NaN   \n",
       "2017-10-01                     NaN  ...                           NaN   \n",
       "\n",
       "            naive_LinearRegression_prediction  \\\n",
       "timestamp                                       \n",
       "2017-10-01                                NaN   \n",
       "2017-10-01                                NaN   \n",
       "2017-10-01                                NaN   \n",
       "2017-10-01                                NaN   \n",
       "2017-10-01                                NaN   \n",
       "\n",
       "            naive_LinearRegression_lower_bound  \\\n",
       "timestamp                                        \n",
       "2017-10-01                                 NaN   \n",
       "2017-10-01                                 NaN   \n",
       "2017-10-01                                 NaN   \n",
       "2017-10-01                                 NaN   \n",
       "2017-10-01                                 NaN   \n",
       "\n",
       "            naive_LinearRegression_upper_bound  za_Ridge_prediction  \\\n",
       "timestamp                                                             \n",
       "2017-10-01                                 NaN                  NaN   \n",
       "2017-10-01                                 NaN                  NaN   \n",
       "2017-10-01                                 NaN                  NaN   \n",
       "2017-10-01                                 NaN                  NaN   \n",
       "2017-10-01                                 NaN                  NaN   \n",
       "\n",
       "            za_Lasso_prediction  za_ElasticNet_prediction  \\\n",
       "timestamp                                                   \n",
       "2017-10-01                  NaN                       NaN   \n",
       "2017-10-01                  NaN                       NaN   \n",
       "2017-10-01                  NaN                       NaN   \n",
       "2017-10-01                  NaN                       NaN   \n",
       "2017-10-01                  NaN                       NaN   \n",
       "\n",
       "            za_LinearRegression_prediction  wind_cluster  time  \n",
       "timestamp                                                       \n",
       "2017-10-01                             NaN             1     0  \n",
       "2017-10-01                             NaN             1     0  \n",
       "2017-10-01                             NaN             1     0  \n",
       "2017-10-01                             NaN             1     0  \n",
       "2017-10-01                             NaN             1     0  \n",
       "\n",
       "[5 rows x 21 columns]"
      ]
     },
     "execution_count": 36,
     "metadata": {},
     "output_type": "execute_result"
    }
   ],
   "source": [
    "# add wind cluster\n",
    "wind_cluster = pca_components[['wind_cluster']]\n",
    "wind_cluster.index = pd.to_datetime(wind_cluster.index)\n",
    "wind_cluster.columns = ['wind_cluster']\n",
    "wind_cluster = wind_cluster.append(pd.Series(wind_cluster.values[-1], index=wind_cluster.columns, name=(wind_cluster.index[-1] + datetime.timedelta(days=1))))\n",
    "wind_cluster= wind_cluster.resample('30Min').pad()\n",
    "df_complete = df_mth.copy()\n",
    "df_complete = df_complete.join(wind_cluster)\n",
    "# add time feature\n",
    "keys = pd.date_range('00:00:00', '23:30:00', freq='30Min').time\n",
    "values = list(range(48))\n",
    "dictionary = dict(zip(keys, values))\n",
    "df_complete['time'] = [dictionary[x] for x in df_complete.index.time]\n",
    "df_complete.head()"
   ]
  },
  {
   "cell_type": "code",
   "execution_count": 110,
   "metadata": {
    "scrolled": false
   },
   "outputs": [
    {
     "name": "stdout",
     "output_type": "stream",
     "text": [
      "[[10.81989303  3.01431198 -0.31395847]]\n",
      "[[19.53413611  5.34558894 -0.91695102]]\n",
      "[[0.77622569 0.62355046 0.11334796]]\n",
      "[[-3.69704524 -0.40228005 -0.68869694]]\n",
      "[[17.66425392  5.09198842  1.32239477]]\n",
      "[[33.1213337   9.35312947  0.44639994]]\n",
      "[[-0.93002458 -0.00799986 -0.20841655]]\n",
      "[[-0.15798901  0.12604157 -0.00643573]]\n",
      "[[-1.00154183e+01 -8.68963228e-01 -4.35891673e-03]]\n",
      "[[-3.32984028  1.54110487 -0.40711607]]\n",
      "[[-0.66082558  0.33651593  0.40740483]]\n",
      "[[-11.69115276  -1.50265854  -1.93966085]]\n",
      "[[-0.97373683  1.32971637  0.14107736]]\n",
      "[[-3.86530568  1.16901571 -1.94576705]]\n",
      "[[-15.91222449  -2.60121049  -1.0068162 ]]\n",
      "[[ 1.69909182 -0.13847435  0.82212956]]\n",
      "[[-0.02694551  1.94311153  0.35485082]]\n",
      "[[-3.10072425  1.14692969  0.05003993]]\n",
      "[[-0.48800009  0.25140852  0.25382161]]\n",
      "[[-7.41280565 -0.87142291 -1.13966253]]\n",
      "[[-1.1762105   0.88806599  0.09902535]]\n",
      "[[-2.44052125  0.71541227 -1.13526784]]\n",
      "[[-1.22531203  0.03469753 -0.08829924]]\n",
      "[[-4.16404875  0.88388541 -0.18466449]]\n",
      "[[0.47183626 2.2650146  0.41301364]]\n",
      "[[-1.65609026  1.69757638 -0.07363596]]\n",
      "[[0.14823724 0.38107645 0.24038543]]\n",
      "[[-8.19686138 -1.05583346 -1.23530195]]\n",
      "[[0.43471726 1.60997702 0.30947059]]\n",
      "[[-0.83349295  1.59639786 -1.22664404]]\n",
      "[[-1.05343626  0.25011117 -0.0913104 ]]\n",
      "[[-2.53521067  0.54955193  0.1263403 ]]\n",
      "[[0.47183626 2.2650146  0.41301364]]\n",
      "[[-1.65609026  1.69757638 -0.07363596]]\n",
      "[[0.14823724 0.38107645 0.24038543]]\n",
      "[[-8.19686138 -1.05583346 -1.23530195]]\n",
      "[[0.43471726 1.60997702 0.30947059]]\n",
      "[[-0.83349295  1.59639786 -1.22664404]]\n",
      "[[-1.05343626  0.25011117 -0.0913104 ]]\n",
      "[[-2.53521067  0.54955193  0.1263403 ]]\n",
      "[[70.08020437 21.19321971 -0.87290529]]\n",
      "[[36.58154717 10.60301348 -1.44653346]]\n",
      "[[-0.29256384  0.42120465  0.21752942]]\n",
      "[[-11.3199356   -1.50973575  -0.99118335]]\n",
      "[[28.23618472  6.20170491  1.83478665]]\n",
      "[[56.65958214 16.6296425   2.90100092]]\n",
      "[[-0.12341641  0.34642786 -0.03044131]]\n",
      "[[-0.08236982  0.06572277 -0.00384778]]\n"
     ]
    }
   ],
   "source": [
    "wt_regression(df_complete, ma, sensors_metadata, faulty_sensors)"
   ]
  },
  {
   "cell_type": "code",
   "execution_count": 39,
   "metadata": {},
   "outputs": [
    {
     "data": {
      "text/plain": [
       "timestamp\n",
       "2017-10-24 00:00:00    369.357423\n",
       "2017-10-24 00:30:00    366.930001\n",
       "2017-10-24 01:00:00    368.082537\n",
       "2017-10-24 01:30:00    364.306457\n",
       "2017-10-24 02:00:00    369.971505\n",
       "2017-10-24 02:30:00    361.883504\n",
       "2017-10-24 03:00:00    368.166134\n",
       "2017-10-24 03:30:00    365.426061\n",
       "2017-10-24 04:00:00    365.609641\n",
       "2017-10-24 04:30:00    371.176893\n",
       "Name: naive_LinearRegression_upper_bound, dtype: float64"
      ]
     },
     "execution_count": 39,
     "metadata": {},
     "output_type": "execute_result"
    }
   ],
   "source": [
    "df_complete[(df_complete['LocationName'] == 'AJGR') & (df_complete.index.day >= 24)]['naive_LinearRegression_upper_bound'].head(10)"
   ]
  },
  {
   "cell_type": "code",
   "execution_count": 41,
   "metadata": {},
   "outputs": [],
   "source": [
    "#df_complete[(df_complete['LocationName'] == 'ZUE') & (df_complete.index.day >= 24)]['wt_LinearRegression_upper_bound'].head(10)"
   ]
  },
  {
   "cell_type": "code",
   "execution_count": 42,
   "metadata": {},
   "outputs": [
    {
     "data": {
      "image/png": "[encoded data removed]",
      "text/plain": [
       "<Figure size 1080x360 with 1 Axes>"
      ]
     },
     "metadata": {},
     "output_type": "display_data"
    }
   ],
   "source": [
    "plot_prediction(df_complete, 'ZUE', 'wt', 'LinearRegression')"
   ]
  },
  {
   "cell_type": "code",
   "execution_count": 54,
   "metadata": {},
   "outputs": [
    {
     "data": {
      "text/plain": [
       "timestamp\n",
       "2017-10-01 00:00:00    496.270369\n",
       "2017-10-01 00:30:00    494.737938\n",
       "2017-10-01 01:00:00    494.139540\n",
       "2017-10-01 01:30:00    495.644383\n",
       "2017-10-01 02:00:00    494.578590\n",
       "Name: wt_LinearRegression_prediction, dtype: float64"
      ]
     },
     "execution_count": 54,
     "metadata": {},
     "output_type": "execute_result"
    }
   ],
   "source": [
    "df_complete[df_complete['LocationName'] == 'ZUE']['wt_LinearRegression_prediction'].head()"
   ]
  },
  {
   "cell_type": "code",
   "execution_count": 55,
   "metadata": {},
   "outputs": [
    {
     "data": {
      "text/plain": [
       "timestamp\n",
       "2017-10-01 00:00:00    344.868450\n",
       "2017-10-01 00:30:00    344.860342\n",
       "2017-10-01 01:00:00    344.614816\n",
       "2017-10-01 01:30:00    344.447220\n",
       "2017-10-01 02:00:00    344.231349\n",
       "Name: naive_LinearRegression_prediction, dtype: float64"
      ]
     },
     "execution_count": 55,
     "metadata": {},
     "output_type": "execute_result"
    }
   ],
   "source": [
    "df_complete[df_complete['LocationName'] == 'AJGR']['naive_LinearRegression_prediction'].head()"
   ]
  },
  {
   "cell_type": "code",
   "execution_count": 71,
   "metadata": {},
   "outputs": [
    {
     "data": {
      "text/html": [
       "<div>\n",
       "<table border=\"1\" class=\"dataframe\">\n",
       "  <thead>\n",
       "    <tr style=\"text-align: right;\">\n",
       "      <th></th>\n",
       "      <th>LocationName</th>\n",
       "      <th>SensorUnit_ID</th>\n",
       "      <th>CO2</th>\n",
       "      <th>temperature</th>\n",
       "      <th>humidity</th>\n",
       "      <th>median CO2</th>\n",
       "      <th>altitude</th>\n",
       "      <th>altitude_cluster</th>\n",
       "      <th>groundtruth</th>\n",
       "      <th>naive_Ridge_prediction</th>\n",
       "      <th>...</th>\n",
       "      <th>time</th>\n",
       "      <th>wt_LinearRegression_prediction</th>\n",
       "      <th>wt_Ridge_prediction</th>\n",
       "      <th>wt_ElasticNet_prediction</th>\n",
       "      <th>wt_Lasso_prediction</th>\n",
       "      <th>wind_speed</th>\n",
       "      <th>brute_force_Ridge_prediction</th>\n",
       "      <th>brute_force_Lasso_prediction</th>\n",
       "      <th>brute_force_ElasticNet_prediction</th>\n",
       "      <th>brute_force_LinearRegression_prediction</th>\n",
       "    </tr>\n",
       "    <tr>\n",
       "      <th>timestamp</th>\n",
       "      <th></th>\n",
       "      <th></th>\n",
       "      <th></th>\n",
       "      <th></th>\n",
       "      <th></th>\n",
       "      <th></th>\n",
       "      <th></th>\n",
       "      <th></th>\n",
       "      <th></th>\n",
       "      <th></th>\n",
       "      <th></th>\n",
       "      <th></th>\n",
       "      <th></th>\n",
       "      <th></th>\n",
       "      <th></th>\n",
       "      <th></th>\n",
       "      <th></th>\n",
       "      <th></th>\n",
       "      <th></th>\n",
       "      <th></th>\n",
       "      <th></th>\n",
       "    </tr>\n",
       "  </thead>\n",
       "  <tbody>\n",
       "    <tr>\n",
       "      <th>2017-10-31 23:30:00</th>\n",
       "      <td>ZFHB</td>\n",
       "      <td>1291</td>\n",
       "      <td>420.311299</td>\n",
       "      <td>1.890000</td>\n",
       "      <td>94.947698</td>\n",
       "      <td>391.755015</td>\n",
       "      <td>518.5</td>\n",
       "      <td>4</td>\n",
       "      <td>NaN</td>\n",
       "      <td>NaN</td>\n",
       "      <td>...</td>\n",
       "      <td>47</td>\n",
       "      <td>NaN</td>\n",
       "      <td>NaN</td>\n",
       "      <td>NaN</td>\n",
       "      <td>NaN</td>\n",
       "      <td>0.686667</td>\n",
       "      <td>NaN</td>\n",
       "      <td>NaN</td>\n",
       "      <td>NaN</td>\n",
       "      <td>NaN</td>\n",
       "    </tr>\n",
       "    <tr>\n",
       "      <th>2017-10-31 23:30:00</th>\n",
       "      <td>RCTZ</td>\n",
       "      <td>1292</td>\n",
       "      <td>552.212598</td>\n",
       "      <td>-0.440000</td>\n",
       "      <td>96.288564</td>\n",
       "      <td>451.003079</td>\n",
       "      <td>440.9</td>\n",
       "      <td>7</td>\n",
       "      <td>NaN</td>\n",
       "      <td>NaN</td>\n",
       "      <td>...</td>\n",
       "      <td>47</td>\n",
       "      <td>NaN</td>\n",
       "      <td>NaN</td>\n",
       "      <td>NaN</td>\n",
       "      <td>NaN</td>\n",
       "      <td>0.686667</td>\n",
       "      <td>NaN</td>\n",
       "      <td>NaN</td>\n",
       "      <td>NaN</td>\n",
       "      <td>NaN</td>\n",
       "    </tr>\n",
       "    <tr>\n",
       "      <th>2017-10-31 23:30:00</th>\n",
       "      <td>WRTW</td>\n",
       "      <td>1297</td>\n",
       "      <td>502.498423</td>\n",
       "      <td>-0.033333</td>\n",
       "      <td>94.645065</td>\n",
       "      <td>428.965858</td>\n",
       "      <td>451.4</td>\n",
       "      <td>7</td>\n",
       "      <td>NaN</td>\n",
       "      <td>NaN</td>\n",
       "      <td>...</td>\n",
       "      <td>47</td>\n",
       "      <td>NaN</td>\n",
       "      <td>NaN</td>\n",
       "      <td>NaN</td>\n",
       "      <td>NaN</td>\n",
       "      <td>0.686667</td>\n",
       "      <td>NaN</td>\n",
       "      <td>NaN</td>\n",
       "      <td>NaN</td>\n",
       "      <td>NaN</td>\n",
       "    </tr>\n",
       "    <tr>\n",
       "      <th>2017-10-31 23:30:00</th>\n",
       "      <td>ZSEF</td>\n",
       "      <td>1298</td>\n",
       "      <td>488.848420</td>\n",
       "      <td>2.888333</td>\n",
       "      <td>82.544846</td>\n",
       "      <td>450.194847</td>\n",
       "      <td>415.1</td>\n",
       "      <td>5</td>\n",
       "      <td>NaN</td>\n",
       "      <td>NaN</td>\n",
       "      <td>...</td>\n",
       "      <td>47</td>\n",
       "      <td>NaN</td>\n",
       "      <td>NaN</td>\n",
       "      <td>NaN</td>\n",
       "      <td>NaN</td>\n",
       "      <td>0.686667</td>\n",
       "      <td>NaN</td>\n",
       "      <td>NaN</td>\n",
       "      <td>NaN</td>\n",
       "      <td>NaN</td>\n",
       "    </tr>\n",
       "    <tr>\n",
       "      <th>2017-10-31 23:30:00</th>\n",
       "      <td>ZLDW</td>\n",
       "      <td>1299</td>\n",
       "      <td>471.881151</td>\n",
       "      <td>3.286667</td>\n",
       "      <td>81.910970</td>\n",
       "      <td>425.401803</td>\n",
       "      <td>405.9</td>\n",
       "      <td>5</td>\n",
       "      <td>NaN</td>\n",
       "      <td>NaN</td>\n",
       "      <td>...</td>\n",
       "      <td>47</td>\n",
       "      <td>NaN</td>\n",
       "      <td>NaN</td>\n",
       "      <td>NaN</td>\n",
       "      <td>NaN</td>\n",
       "      <td>0.686667</td>\n",
       "      <td>NaN</td>\n",
       "      <td>NaN</td>\n",
       "      <td>NaN</td>\n",
       "      <td>NaN</td>\n",
       "    </tr>\n",
       "  </tbody>\n",
       "</table>\n",
       "<p>5 rows × 30 columns</p>\n",
       "</div>"
      ],
      "text/plain": [
       "                    LocationName  SensorUnit_ID         CO2  temperature  \\\n",
       "timestamp                                                                  \n",
       "2017-10-31 23:30:00         ZFHB           1291  420.311299     1.890000   \n",
       "2017-10-31 23:30:00         RCTZ           1292  552.212598    -0.440000   \n",
       "2017-10-31 23:30:00         WRTW           1297  502.498423    -0.033333   \n",
       "2017-10-31 23:30:00         ZSEF           1298  488.848420     2.888333   \n",
       "2017-10-31 23:30:00         ZLDW           1299  471.881151     3.286667   \n",
       "\n",
       "                      humidity  median CO2  altitude  altitude_cluster  \\\n",
       "timestamp                                                                \n",
       "2017-10-31 23:30:00  94.947698  391.755015     518.5                 4   \n",
       "2017-10-31 23:30:00  96.288564  451.003079     440.9                 7   \n",
       "2017-10-31 23:30:00  94.645065  428.965858     451.4                 7   \n",
       "2017-10-31 23:30:00  82.544846  450.194847     415.1                 5   \n",
       "2017-10-31 23:30:00  81.910970  425.401803     405.9                 5   \n",
       "\n",
       "                     groundtruth  naive_Ridge_prediction  \\\n",
       "timestamp                                                  \n",
       "2017-10-31 23:30:00          NaN                     NaN   \n",
       "2017-10-31 23:30:00          NaN                     NaN   \n",
       "2017-10-31 23:30:00          NaN                     NaN   \n",
       "2017-10-31 23:30:00          NaN                     NaN   \n",
       "2017-10-31 23:30:00          NaN                     NaN   \n",
       "\n",
       "                                      ...                     time  \\\n",
       "timestamp                             ...                            \n",
       "2017-10-31 23:30:00                   ...                       47   \n",
       "2017-10-31 23:30:00                   ...                       47   \n",
       "2017-10-31 23:30:00                   ...                       47   \n",
       "2017-10-31 23:30:00                   ...                       47   \n",
       "2017-10-31 23:30:00                   ...                       47   \n",
       "\n",
       "                     wt_LinearRegression_prediction  wt_Ridge_prediction  \\\n",
       "timestamp                                                                  \n",
       "2017-10-31 23:30:00                             NaN                  NaN   \n",
       "2017-10-31 23:30:00                             NaN                  NaN   \n",
       "2017-10-31 23:30:00                             NaN                  NaN   \n",
       "2017-10-31 23:30:00                             NaN                  NaN   \n",
       "2017-10-31 23:30:00                             NaN                  NaN   \n",
       "\n",
       "                     wt_ElasticNet_prediction  wt_Lasso_prediction  \\\n",
       "timestamp                                                            \n",
       "2017-10-31 23:30:00                       NaN                  NaN   \n",
       "2017-10-31 23:30:00                       NaN                  NaN   \n",
       "2017-10-31 23:30:00                       NaN                  NaN   \n",
       "2017-10-31 23:30:00                       NaN                  NaN   \n",
       "2017-10-31 23:30:00                       NaN                  NaN   \n",
       "\n",
       "                     wind_speed  brute_force_Ridge_prediction  \\\n",
       "timestamp                                                       \n",
       "2017-10-31 23:30:00    0.686667                           NaN   \n",
       "2017-10-31 23:30:00    0.686667                           NaN   \n",
       "2017-10-31 23:30:00    0.686667                           NaN   \n",
       "2017-10-31 23:30:00    0.686667                           NaN   \n",
       "2017-10-31 23:30:00    0.686667                           NaN   \n",
       "\n",
       "                     brute_force_Lasso_prediction  \\\n",
       "timestamp                                           \n",
       "2017-10-31 23:30:00                           NaN   \n",
       "2017-10-31 23:30:00                           NaN   \n",
       "2017-10-31 23:30:00                           NaN   \n",
       "2017-10-31 23:30:00                           NaN   \n",
       "2017-10-31 23:30:00                           NaN   \n",
       "\n",
       "                     brute_force_ElasticNet_prediction  \\\n",
       "timestamp                                                \n",
       "2017-10-31 23:30:00                                NaN   \n",
       "2017-10-31 23:30:00                                NaN   \n",
       "2017-10-31 23:30:00                                NaN   \n",
       "2017-10-31 23:30:00                                NaN   \n",
       "2017-10-31 23:30:00                                NaN   \n",
       "\n",
       "                     brute_force_LinearRegression_prediction  \n",
       "timestamp                                                     \n",
       "2017-10-31 23:30:00                                      NaN  \n",
       "2017-10-31 23:30:00                                      NaN  \n",
       "2017-10-31 23:30:00                                      NaN  \n",
       "2017-10-31 23:30:00                                      NaN  \n",
       "2017-10-31 23:30:00                                      NaN  \n",
       "\n",
       "[5 rows x 30 columns]"
      ]
     },
     "execution_count": 71,
     "metadata": {},
     "output_type": "execute_result"
    }
   ],
   "source": [
    "df_complete.tail()"
   ]
  },
  {
   "cell_type": "code",
   "execution_count": 44,
   "metadata": {},
   "outputs": [],
   "source": [
    "#plot_zoomed_prediction(df_complete, 'ZUE', 'wt', 'LinearRegression', 'ZUE_wt', ci=True)"
   ]
  },
  {
   "cell_type": "markdown",
   "metadata": {},
   "source": [
    "### 4) Brute force with other techniques (ridge, elastic net, lasso)\n",
    "\n",
    "Take everything into consideration without defining any particular cluster for wind or altitude."
   ]
  },
  {
   "cell_type": "markdown",
   "metadata": {},
   "source": [
    "## TODO parameters to tweak. For now we don't seem to see a significant difference"
   ]
  },
  {
   "cell_type": "code",
   "execution_count": 45,
   "metadata": {},
   "outputs": [],
   "source": [
    "# add wind speed value to complete df\n",
    "df_complete['wind_speed'] = ZU_aw['wind_speed']"
   ]
  },
  {
   "cell_type": "code",
   "execution_count": 47,
   "metadata": {},
   "outputs": [],
   "source": [
    "brute_force(df_complete, faulty_sensors)"
   ]
  },
  {
   "cell_type": "code",
   "execution_count": 69,
   "metadata": {
    "scrolled": false
   },
   "outputs": [
    {
     "data": {
      "text/plain": [
       "\"sensor = 'ZSTA'\\napproach = 'brute_force'\\nfor reg in regs:\\n    plot_prediction(df_complete, sensor, approach, reg)\\n    plot_zoomed_prediction(df_complete, sensor, approach, reg)\""
      ]
     },
     "execution_count": 69,
     "metadata": {},
     "output_type": "execute_result"
    }
   ],
   "source": [
    "\"\"\"sensor = 'ZSTA'\n",
    "approach = 'brute_force'\n",
    "for reg in regs:\n",
    "    plot_prediction(df_complete, sensor, approach, reg)\n",
    "    plot_zoomed_prediction(df_complete, sensor, approach, reg)\"\"\""
   ]
  },
  {
   "cell_type": "code",
   "execution_count": 49,
   "metadata": {
    "scrolled": false
   },
   "outputs": [
    {
     "name": "stdout",
     "output_type": "stream",
     "text": [
      "\n",
      "AJGR sensor\n",
      "-----------\n",
      "*****\n",
      "MSE for wt LinearRegression prediction: 21782.03\n",
      "MSE for wt Lasso prediction: 21687.56\n",
      "MSE for wt Ridge prediction: 21772.23\n",
      "MSE for wt ElasticNet prediction: 21000.81\n",
      "\n",
      "BSCR sensor\n",
      "-----------\n",
      "*****\n",
      "MSE for wt LinearRegression prediction: 4511.09\n",
      "MSE for wt Lasso prediction: 4501.25\n",
      "MSE for wt Ridge prediction: 4511.04\n",
      "MSE for wt ElasticNet prediction: 4487.97\n",
      "\n",
      "ZSTA sensor\n",
      "-----------\n",
      "*****\n",
      "MSE for wt LinearRegression prediction: 948.19\n",
      "MSE for wt Lasso prediction: 947.33\n",
      "MSE for wt Ridge prediction: 948.20\n",
      "MSE for wt ElasticNet prediction: 945.02\n",
      "\n",
      "ZUE sensor\n",
      "-----------\n",
      "*****\n",
      "MSE for wt LinearRegression prediction: 620.86\n",
      "MSE for wt Lasso prediction: 628.25\n",
      "MSE for wt Ridge prediction: 620.85\n",
      "MSE for wt ElasticNet prediction: 628.05\n",
      "\n",
      "ZSBN sensor\n",
      "-----------\n",
      "*****\n",
      "MSE for wt LinearRegression prediction: 13550.53\n",
      "MSE for wt Lasso prediction: 13510.84\n",
      "MSE for wt Ridge prediction: 13549.96\n",
      "MSE for wt ElasticNet prediction: 13500.55\n",
      "\n",
      "ZLMT sensor\n",
      "-----------\n",
      "*****\n",
      "MSE for wt LinearRegression prediction: 82766.18\n",
      "MSE for wt Lasso prediction: 82487.52\n",
      "MSE for wt Ridge prediction: 82721.81\n",
      "MSE for wt ElasticNet prediction: 77598.29\n"
     ]
    }
   ],
   "source": [
    "regs = ['LinearRegression', 'Lasso', 'Ridge', 'ElasticNet']\n",
    "reg = ['LinearRegression']\n",
    "print_MSE(df_complete, faulty_sensors, ['wt'], regs)"
   ]
  },
  {
   "cell_type": "markdown",
   "metadata": {},
   "source": [
    "### Plots for presentation"
   ]
  },
  {
   "cell_type": "code",
   "execution_count": 50,
   "metadata": {},
   "outputs": [
    {
     "data": {
      "image/png": "[encoded data removed]",
      "text/plain": [
       "<Figure size 1080x360 with 1 Axes>"
      ]
     },
     "metadata": {},
     "output_type": "display_data"
    }
   ],
   "source": [
    "plot_example_faulty_sensor()"
   ]
  },
  {
   "cell_type": "code",
   "execution_count": 53,
   "metadata": {},
   "outputs": [
    {
     "data": {
      "image/png": "[encoded data removed]",
      "text/plain": [
       "<Figure size 1080x720 with 1 Axes>"
      ]
     },
     "metadata": {},
     "output_type": "display_data"
    }
   ],
   "source": [
    "plot_altitude_cluster_features()"
   ]
  },
  {
   "cell_type": "code",
   "execution_count": 52,
   "metadata": {},
   "outputs": [
    {
     "data": {
      "image/png": "[encoded data removed]",
      "text/plain": [
       "<Figure size 1080x720 with 1 Axes>"
      ]
     },
     "metadata": {},
     "output_type": "display_data"
    }
   ],
   "source": [
    "plot_wind_cluster_features()"
   ]
  },
  {
   "cell_type": "markdown",
   "metadata": {},
   "source": [
    "## Bonus\n",
    "\n",
    "Here is additional material that will help complete answers or clarifiy some questions asked during the public defense.\n",
    "\n",
    "- what is your model ?\n",
    "- how does the clustering look like ? For ZA and WT approaches.\n",
    "- give further explanation about wind cluster features viz"
   ]
  },
  {
   "cell_type": "markdown",
   "metadata": {},
   "source": []
  }
 ],
 "metadata": {
  "kernelspec": {
   "display_name": "Python 3",
   "language": "python",
   "name": "python3"
  },
  "language_info": {
   "codemirror_mode": {
    "name": "ipython",
    "version": 3
   },
   "file_extension": ".py",
   "mimetype": "text/x-python",
   "name": "python",
   "nbconvert_exporter": "python",
   "pygments_lexer": "ipython3",
   "version": "3.5.5"
  }
 },
 "nbformat": 4,
 "nbformat_minor": 2
}
