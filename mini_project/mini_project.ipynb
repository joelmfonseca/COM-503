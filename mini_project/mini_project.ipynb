{
 "cells": [
  {
   "cell_type": "markdown",
   "metadata": {},
   "source": [
    "# Description of the mini-project\n",
    "\n",
    "## Dataset\n",
    "\n",
    "In this mini-project we will work with a dataset used in the *EE-490 Lab in Data Science* course. It is composed of CO2 measurements taken from a pool of 46 cheap but inaccurate sensors deployed in the city of Zurich. In addition, we also have access to temperature and humidity measurements, the altitude of the sensor as well as the average daily wind pattern for the city.\n",
    "\n",
    "## Prior Knowledge\n",
    "\n",
    "Measurements highly depends on the temperature, the humidity, the wind, the altitude and the level of traffic around the site. For example, a sensor that is located in a mountain with high altitude and exposed to strong winds is expected to have a much lower and uniform level of CO2 compared to another sensor that is located near the center of the city and close to a busy industrial zone exposed to high traffic activity. We also know that there is a strong dependence of the CO2 measurements on the temperature and the humidity.\n",
    "\n",
    "## Assumption\n",
    "\n",
    "Sensors in similar conditions are expected to have similar measurements.\n",
    "\n",
    "## Issue\n",
    "\n",
    "It might be the case that one sensor suddenly begins to take wrong measurements. The detection of faulty sensors is done by an external domain expert. Then, our job consists in curate the CO2 measurements for that particular sensor through our regression model.\n",
    "\n",
    "## Goal\n",
    "\n",
    "Fit a linear regression model to the CO2 measurements based on the aforementioned features. Do a performance evaluation between several models by comparing the fitting time and the goodness of fit.\n",
    "\n",
    "## Proposed solution and structure\n",
    "\n",
    "Our proposed solution can be decomposed in the following parts:\n",
    "\n",
    "* Preprocessing: features come in different files, we need to aggregate them and make sure the data comes exempt from missing values or any defect. K-means is used to optimally group sensor that are in similar conditions, such as altitude and wind exposure.\n",
    "* Faulty sensor modeling: in order to test our model's ability to fit the lost measurements, we need to model the faulty sensors. In this way we will be able to compare our prediction against the true measurements.\n",
    "* Performance evaluation: compare the different models and select the most appropriate one."
   ]
  },
  {
   "cell_type": "code",
   "execution_count": 54,
   "metadata": {},
   "outputs": [],
   "source": [
    "import numpy as np\n",
    "import pandas as pd\n",
    "import datetime\n",
    "import matplotlib.pyplot as plt\n",
    "from sklearn.cluster import KMeans\n",
    "from sklearn.metrics import silhouette_score\n",
    "import array\n",
    "from tqdm import tqdm_notebook as tqdm"
   ]
  },
  {
   "cell_type": "markdown",
   "metadata": {},
   "source": [
    "## Preprocessing\n",
    "\n",
    "### Merging CO2 measurements, temperature and humidity in a single dataframe."
   ]
  },
  {
   "cell_type": "code",
   "execution_count": 2,
   "metadata": {},
   "outputs": [
    {
     "data": {
      "application/vnd.jupyter.widget-view+json": {
       "model_id": "d345bb5f09ff4942a3690b55b4802b17",
       "version_major": 2,
       "version_minor": 0
      },
      "text/plain": [
       "HBox(children=(IntProgress(value=0, max=46), HTML(value='')))"
      ]
     },
     "metadata": {},
     "output_type": "display_data"
    },
    {
     "name": "stdout",
     "output_type": "stream",
     "text": [
      "\n"
     ]
    }
   ],
   "source": [
    "# Load the data\n",
    "CO2_measurement = pd.read_csv('data/CO2_sensor_measurements.csv', sep='\\t')\n",
    "zurich_average_wind = pd.read_csv('data/zurich_average_wind.csv', sep='\\t')\n",
    "zurich_temp_humidity= pd.read_csv('data/temperature_humidity.csv', sep='\\t')\n",
    "sensors_metadata = pd.read_csv('data/sensors_metadata.csv', sep='\\t') \n",
    "\n",
    "# Some values are missing, that is why we will interpolate them by taking the average over an interval of 30min.\n",
    "# We will also aggregate all the information of CO2 measurements, temperature and humidity into one single \n",
    "# dataframe for more practicality.\n",
    "\n",
    "# interpolate CO2_measurement\n",
    "CO2_measurement = CO2_measurement.interpolate().set_index('timestamp')\n",
    "CO2_measurement.index = pd.to_datetime(CO2_measurement.index)\n",
    "grouper = CO2_measurement.groupby([pd.Grouper(freq='30Min'), 'LocationName', 'SensorUnit_ID'])\n",
    "grouper = grouper.mean()\n",
    "\n",
    "\n",
    "# interpolate temperature and humidity\n",
    "zurich_temp_humidity = zurich_temp_humidity.interpolate().set_index('Timestamp')\n",
    "zurich_temp_humidity.index.names = ['timestamp']\n",
    "zurich_temp_humidity.index = pd.to_datetime(zurich_temp_humidity.index)\n",
    "zurich_temp_humidity = zurich_temp_humidity.resample('30Min').mean()\n",
    "\n",
    "# merge the two dataframes\n",
    "grouper = grouper.reset_index()\n",
    "mth = pd.DataFrame()\n",
    "for e in tqdm(zurich_temp_humidity.columns[::2]):\n",
    "    id_ = int(e.split('.')[0])\n",
    "    df = zurich_temp_humidity[['{}.temperature'.format(id_), '{}.humidity'.format(id_)]].rename(\n",
    "        columns={\n",
    "            '{}.temperature'.format(id_): 'temperature',\n",
    "            '{}.humidity'.format(id_):'humidity'\n",
    "        }\n",
    "    )\n",
    "    df['SensorUnit_ID'] = id_\n",
    "    mth = mth.append(grouper.merge(df.reset_index(), on=['timestamp', 'SensorUnit_ID'])) \n",
    "mth = mth.set_index('timestamp')"
   ]
  },
  {
   "cell_type": "code",
   "execution_count": 3,
   "metadata": {},
   "outputs": [
    {
     "data": {
      "text/html": [
       "<div>\n",
       "<style scoped>\n",
       "    .dataframe tbody tr th:only-of-type {\n",
       "        vertical-align: middle;\n",
       "    }\n",
       "\n",
       "    .dataframe tbody tr th {\n",
       "        vertical-align: top;\n",
       "    }\n",
       "\n",
       "    .dataframe thead th {\n",
       "        text-align: right;\n",
       "    }\n",
       "</style>\n",
       "<table border=\"1\" class=\"dataframe\">\n",
       "  <thead>\n",
       "    <tr style=\"text-align: right;\">\n",
       "      <th></th>\n",
       "      <th>LocationName</th>\n",
       "      <th>SensorUnit_ID</th>\n",
       "      <th>CO2</th>\n",
       "      <th>temperature</th>\n",
       "      <th>humidity</th>\n",
       "    </tr>\n",
       "    <tr>\n",
       "      <th>timestamp</th>\n",
       "      <th></th>\n",
       "      <th></th>\n",
       "      <th></th>\n",
       "      <th></th>\n",
       "      <th></th>\n",
       "    </tr>\n",
       "  </thead>\n",
       "  <tbody>\n",
       "    <tr>\n",
       "      <th>2017-10-01 00:00:00</th>\n",
       "      <td>ZGHD</td>\n",
       "      <td>1014</td>\n",
       "      <td>595.004391</td>\n",
       "      <td>11.396667</td>\n",
       "      <td>92.440806</td>\n",
       "    </tr>\n",
       "    <tr>\n",
       "      <th>2017-10-01 00:30:00</th>\n",
       "      <td>ZGHD</td>\n",
       "      <td>1014</td>\n",
       "      <td>597.017879</td>\n",
       "      <td>11.303333</td>\n",
       "      <td>91.625097</td>\n",
       "    </tr>\n",
       "    <tr>\n",
       "      <th>2017-10-01 01:00:00</th>\n",
       "      <td>ZGHD</td>\n",
       "      <td>1014</td>\n",
       "      <td>596.487010</td>\n",
       "      <td>11.240000</td>\n",
       "      <td>91.096761</td>\n",
       "    </tr>\n",
       "    <tr>\n",
       "      <th>2017-10-01 01:30:00</th>\n",
       "      <td>ZGHD</td>\n",
       "      <td>1014</td>\n",
       "      <td>598.787639</td>\n",
       "      <td>11.260000</td>\n",
       "      <td>91.275734</td>\n",
       "    </tr>\n",
       "    <tr>\n",
       "      <th>2017-10-01 02:00:00</th>\n",
       "      <td>ZGHD</td>\n",
       "      <td>1014</td>\n",
       "      <td>595.366394</td>\n",
       "      <td>11.285000</td>\n",
       "      <td>91.003937</td>\n",
       "    </tr>\n",
       "  </tbody>\n",
       "</table>\n",
       "</div>"
      ],
      "text/plain": [
       "                    LocationName  SensorUnit_ID         CO2  temperature  \\\n",
       "timestamp                                                                  \n",
       "2017-10-01 00:00:00         ZGHD           1014  595.004391    11.396667   \n",
       "2017-10-01 00:30:00         ZGHD           1014  597.017879    11.303333   \n",
       "2017-10-01 01:00:00         ZGHD           1014  596.487010    11.240000   \n",
       "2017-10-01 01:30:00         ZGHD           1014  598.787639    11.260000   \n",
       "2017-10-01 02:00:00         ZGHD           1014  595.366394    11.285000   \n",
       "\n",
       "                      humidity  \n",
       "timestamp                       \n",
       "2017-10-01 00:00:00  92.440806  \n",
       "2017-10-01 00:30:00  91.625097  \n",
       "2017-10-01 01:00:00  91.096761  \n",
       "2017-10-01 01:30:00  91.275734  \n",
       "2017-10-01 02:00:00  91.003937  "
      ]
     },
     "execution_count": 3,
     "metadata": {},
     "output_type": "execute_result"
    }
   ],
   "source": [
    "mth.head()"
   ]
  },
  {
   "cell_type": "markdown",
   "metadata": {},
   "source": [
    "### Applying K-means for the altitude and wind exposure.\n",
    "\n",
    "For the altitude: K-means will be computed based on two features of the sensor. Its altitude and its median of the CO2 measurements for the entire month."
   ]
  },
  {
   "cell_type": "code",
   "execution_count": 33,
   "metadata": {},
   "outputs": [
    {
     "data": {
      "text/html": [
       "<div>\n",
       "<style scoped>\n",
       "    .dataframe tbody tr th:only-of-type {\n",
       "        vertical-align: middle;\n",
       "    }\n",
       "\n",
       "    .dataframe tbody tr th {\n",
       "        vertical-align: top;\n",
       "    }\n",
       "\n",
       "    .dataframe thead th {\n",
       "        text-align: right;\n",
       "    }\n",
       "</style>\n",
       "<table border=\"1\" class=\"dataframe\">\n",
       "  <thead>\n",
       "    <tr style=\"text-align: right;\">\n",
       "      <th></th>\n",
       "      <th>CO2</th>\n",
       "      <th>altitude</th>\n",
       "    </tr>\n",
       "    <tr>\n",
       "      <th>LocationName</th>\n",
       "      <th></th>\n",
       "      <th></th>\n",
       "    </tr>\n",
       "  </thead>\n",
       "  <tbody>\n",
       "    <tr>\n",
       "      <th>AJGR</th>\n",
       "      <td>334.785793</td>\n",
       "      <td>627.8</td>\n",
       "    </tr>\n",
       "    <tr>\n",
       "      <th>BSCR</th>\n",
       "      <td>475.316233</td>\n",
       "      <td>462.3</td>\n",
       "    </tr>\n",
       "    <tr>\n",
       "      <th>BUDF</th>\n",
       "      <td>422.793126</td>\n",
       "      <td>490.2</td>\n",
       "    </tr>\n",
       "    <tr>\n",
       "      <th>KBRL</th>\n",
       "      <td>410.100150</td>\n",
       "      <td>510.5</td>\n",
       "    </tr>\n",
       "    <tr>\n",
       "      <th>KTGM</th>\n",
       "      <td>444.395518</td>\n",
       "      <td>530.3</td>\n",
       "    </tr>\n",
       "  </tbody>\n",
       "</table>\n",
       "</div>"
      ],
      "text/plain": [
       "                     CO2  altitude\n",
       "LocationName                      \n",
       "AJGR          334.785793     627.8\n",
       "BSCR          475.316233     462.3\n",
       "BUDF          422.793126     490.2\n",
       "KBRL          410.100150     510.5\n",
       "KTGM          444.395518     530.3"
      ]
     },
     "execution_count": 33,
     "metadata": {},
     "output_type": "execute_result"
    }
   ],
   "source": [
    "# take the median of the CO2_measurements\n",
    "CO2_measurements = mth[['LocationName', 'CO2']].groupby([pd.Grouper(freq='1M'), 'LocationName'])\\\n",
    "                    .median().reset_index().drop('timestamp', 1).set_index('LocationName')\n",
    "\n",
    "# select only altitude from the metadata\n",
    "altitude = sensors_metadata[['LocationName', 'altitude']].set_index('LocationName')\n",
    "\n",
    "# join both features in a single dataframe\n",
    "ma = CO2_measurements.join(altitude)\n",
    "ma.head()"
   ]
  },
  {
   "cell_type": "code",
   "execution_count": 87,
   "metadata": {},
   "outputs": [
    {
     "data": {
      "image/png": "[encoded data removed]",
      "text/plain": [
       "<Figure size 1080x720 with 1 Axes>"
      ]
     },
     "metadata": {
      "needs_background": "light"
     },
     "output_type": "display_data"
    }
   ],
   "source": [
    "ax = ma.plot(x='CO2', y='altitude', kind='scatter', figsize=(15, 10))\n",
    "\n",
    "for k, v in ma.iterrows():\n",
    "    ax.annotate(k, v, xytext=(4,2), textcoords='offset points', fontsize=10)\n",
    "\n",
    "plt.title('Sensor visualisation based on altitude and median CO2 measurement')\n",
    "plt.xlabel('Daily median CO2 [ppm]')\n",
    "plt.ylabel('Altitude [m]')\n",
    "plt.show()"
   ]
  },
  {
   "cell_type": "code",
   "execution_count": 88,
   "metadata": {},
   "outputs": [
    {
     "data": {
      "image/png": "[encoded data removed]",
      "text/plain": [
       "<Figure size 720x360 with 1 Axes>"
      ]
     },
     "metadata": {
      "needs_background": "light"
     },
     "output_type": "display_data"
    }
   ],
   "source": [
    "range_k = range(2,11)\n",
    "X = ma.values\n",
    "kmeans = [KMeans(i) for i in search_space]\n",
    "scores = [kmeans[i].fit(X).inertia_ for i in range(len(kmeans))]\n",
    "\n",
    "fig, ax = plt.subplots(1, 1, figsize=(10,5))\n",
    "ax.plot(range_k, scores)\n",
    "plt.title('Elbow method for optimal K')\n",
    "plt.xlabel('Number of clusters')\n",
    "plt.ylabel('Sum of squared distances')\n",
    "plt.yticks([])\n",
    "plt.grid()\n",
    "plt.show()"
   ]
  },
  {
   "cell_type": "code",
   "execution_count": null,
   "metadata": {},
   "outputs": [],
   "source": [
    "\"\"\"X = ma.values\n",
    "range_k = range(2,11)\n",
    "for k in range_k:\n",
    "    cluster = KMeans(n_clusters=k)\n",
    "    cluster_labels = cluster.fit_predict(X)\n",
    "    silhouette_avg = silhouette_score(X, cluster_labels)\n",
    "    print('For K={}, the average silhouette score is {:1.5f}.'.format(k, silhouette_avg))\"\"\""
   ]
  },
  {
   "cell_type": "code",
   "execution_count": 89,
   "metadata": {},
   "outputs": [
    {
     "data": {
      "text/html": [
       "<div>\n",
       "<style scoped>\n",
       "    .dataframe tbody tr th:only-of-type {\n",
       "        vertical-align: middle;\n",
       "    }\n",
       "\n",
       "    .dataframe tbody tr th {\n",
       "        vertical-align: top;\n",
       "    }\n",
       "\n",
       "    .dataframe thead th {\n",
       "        text-align: right;\n",
       "    }\n",
       "</style>\n",
       "<table border=\"1\" class=\"dataframe\">\n",
       "  <thead>\n",
       "    <tr style=\"text-align: right;\">\n",
       "      <th></th>\n",
       "      <th>CO2</th>\n",
       "      <th>altitude</th>\n",
       "      <th>altitude_cluster</th>\n",
       "    </tr>\n",
       "    <tr>\n",
       "      <th>LocationName</th>\n",
       "      <th></th>\n",
       "      <th></th>\n",
       "      <th></th>\n",
       "    </tr>\n",
       "  </thead>\n",
       "  <tbody>\n",
       "    <tr>\n",
       "      <th>AJGR</th>\n",
       "      <td>334.785793</td>\n",
       "      <td>627.8</td>\n",
       "      <td>1</td>\n",
       "    </tr>\n",
       "    <tr>\n",
       "      <th>BSCR</th>\n",
       "      <td>475.316233</td>\n",
       "      <td>462.3</td>\n",
       "      <td>0</td>\n",
       "    </tr>\n",
       "    <tr>\n",
       "      <th>BUDF</th>\n",
       "      <td>422.793126</td>\n",
       "      <td>490.2</td>\n",
       "      <td>3</td>\n",
       "    </tr>\n",
       "    <tr>\n",
       "      <th>KBRL</th>\n",
       "      <td>410.100150</td>\n",
       "      <td>510.5</td>\n",
       "      <td>3</td>\n",
       "    </tr>\n",
       "    <tr>\n",
       "      <th>KTGM</th>\n",
       "      <td>444.395518</td>\n",
       "      <td>530.3</td>\n",
       "      <td>3</td>\n",
       "    </tr>\n",
       "  </tbody>\n",
       "</table>\n",
       "</div>"
      ],
      "text/plain": [
       "                     CO2  altitude  altitude_cluster\n",
       "LocationName                                        \n",
       "AJGR          334.785793     627.8                 1\n",
       "BSCR          475.316233     462.3                 0\n",
       "BUDF          422.793126     490.2                 3\n",
       "KBRL          410.100150     510.5                 3\n",
       "KTGM          444.395518     530.3                 3"
      ]
     },
     "execution_count": 89,
     "metadata": {},
     "output_type": "execute_result"
    }
   ],
   "source": [
    "ma['altitude_cluster'] = KMeans(4).fit(X).labels_\n",
    "ma.head()"
   ]
  },
  {
   "cell_type": "code",
   "execution_count": null,
   "metadata": {},
   "outputs": [],
   "source": []
  }
 ],
 "metadata": {
  "kernelspec": {
   "display_name": "Python 3",
   "language": "python",
   "name": "python3"
  },
  "language_info": {
   "codemirror_mode": {
    "name": "ipython",
    "version": 3
   },
   "file_extension": ".py",
   "mimetype": "text/x-python",
   "name": "python",
   "nbconvert_exporter": "python",
   "pygments_lexer": "ipython3",
   "version": "3.7.1"
  }
 },
 "nbformat": 4,
 "nbformat_minor": 2
}
