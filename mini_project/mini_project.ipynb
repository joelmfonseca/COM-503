{
 "cells": [
  {
   "cell_type": "markdown",
   "metadata": {},
   "source": [
    "# Description of the mini-project\n",
    "\n",
    "## Dataset\n",
    "\n",
    "In this mini-project we will work with a dataset used in the *EE-490 Lab in Data Science* course. It is composed of CO$_2$ measurements taken from a pool of 46 cheap but inaccurate sensors deployed in the city of Zurich. In addition, we also have access to temperature and humidity measurements, the altitude of the sensor as well as the average daily wind pattern for the city.\n",
    "\n",
    "## Prior Knowledge\n",
    "\n",
    "Measurements highly depends on the temperature, the humidity, the wind, the altitude and the level of traffic around the site. For example, a sensor that is located in a mountain with high altitude and exposed to strong winds is expected to have a much lower and uniform level of CO$_2$ compared to another sensor that is located near the center of the city and close to a busy industrial zone exposed to high traffic activity. We also know that there is a strong dependence of the CO$_2$ measurements on the temperature and the humidity.\n",
    "\n",
    "## Assumption\n",
    "\n",
    "Sensors in similar conditions are expected to have similar measurements.\n",
    "\n",
    "## Issue\n",
    "\n",
    "It might be the case that one sensor suddenly begins to take wrong measurements. The detection of faulty sensors is done by an external domain expert. Then, our job consists in curate the CO$_2$ measurements for that particular sensor through our regression model.\n",
    "\n",
    "## Goal\n",
    "\n",
    "Fit a linear regression model to the CO$_2$ measurements based on the aforementioned features. Do a performance evaluation between several models by comparing the fitting time and the goodness of fit.\n",
    "\n",
    "## Proposed solution and structure\n",
    "\n",
    "Our proposed solution can be decomposed in the following parts:\n",
    "\n",
    "* preprocessing: features come in different files, we need to aggregate them and make sure the data comes exempt from missing values or any defect.\n",
    "* faulty sensor modeling: in order to test our model's ability to fit the lost measurements, we need to model the faulty sensors. In this way we will be able to compare our prediction against the true measurements.\n",
    "* performance evaluation: compare the different models and select the most appropriate one."
   ]
  },
  {
   "cell_type": "code",
   "execution_count": null,
   "metadata": {},
   "outputs": [],
   "source": []
  }
 ],
 "metadata": {
  "kernelspec": {
   "display_name": "Python 3",
   "language": "python",
   "name": "python3"
  },
  "language_info": {
   "codemirror_mode": {
    "name": "ipython",
    "version": 3
   },
   "file_extension": ".py",
   "mimetype": "text/x-python",
   "name": "python",
   "nbconvert_exporter": "python",
   "pygments_lexer": "ipython3",
   "version": "3.6.7"
  }
 },
 "nbformat": 4,
 "nbformat_minor": 2
}
