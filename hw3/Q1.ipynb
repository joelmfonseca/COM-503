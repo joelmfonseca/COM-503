{
 "cells": [
  {
   "cell_type": "code",
   "execution_count": null,
   "metadata": {},
   "outputs": [],
   "source": [
    "%load_ext autoreload"
   ]
  },
  {
   "cell_type": "code",
   "execution_count": null,
   "metadata": {},
   "outputs": [],
   "source": [
    "%autoreload 2"
   ]
  },
  {
   "cell_type": "code",
   "execution_count": null,
   "metadata": {},
   "outputs": [],
   "source": [
    "from server import Server\n",
    "import matplotlib.pyplot as plt"
   ]
  },
  {
   "cell_type": "code",
   "execution_count": null,
   "metadata": {
    "scrolled": false
   },
   "outputs": [],
   "source": [
    "server = Server(max_req=100, arrival_rate=80/1000)\n",
    "history_num_job_arrived, history_num_job_served, buffer_t1, buffer_t2 \\\n",
    "= server.run()"
   ]
  },
  {
   "cell_type": "code",
   "execution_count": null,
   "metadata": {
    "scrolled": true
   },
   "outputs": [],
   "source": [
    "history_num_job_arrived"
   ]
  },
  {
   "cell_type": "code",
   "execution_count": null,
   "metadata": {},
   "outputs": [],
   "source": [
    "history_num_job_served"
   ]
  },
  {
   "cell_type": "code",
   "execution_count": null,
   "metadata": {},
   "outputs": [],
   "source": [
    "fig, ax = plt.subplots(1, 1, figsize=(10,5))\n",
    "\n",
    "x0, y0 = list(zip(*history_num_job_arrived))\n",
    "x1, y1 = list(zip(*history_num_job_served))\n",
    "\n",
    "ax.step(x0, y0, c='b', label='requests arrived')\n",
    "ax.step(x1, y1, c='r', label='requests served')\n",
    "ax.set_title('Number of requests arrived and served')\n",
    "ax.set_xlabel('Time [ms]')\n",
    "ax.set_ylabel('Number of requests')\n",
    "plt.legend()\n",
    "plt.savefig('q1_req.png', dpi=300)"
   ]
  },
  {
   "cell_type": "code",
   "execution_count": null,
   "metadata": {
    "scrolled": false
   },
   "outputs": [],
   "source": [
    "buffer_t1"
   ]
  },
  {
   "cell_type": "code",
   "execution_count": null,
   "metadata": {},
   "outputs": [],
   "source": [
    "buffer_t2"
   ]
  },
  {
   "cell_type": "code",
   "execution_count": null,
   "metadata": {},
   "outputs": [],
   "source": [
    "fig, ax = plt.subplots(1, 1, figsize=(10,5))\n",
    "\n",
    "x0, y0 = list(zip(*buffer_t1))\n",
    "\n",
    "ax.step(x0, y0, c='m', label='type 1 jobs')\n",
    "ax.set_title('Number of jobs in the processor queue')\n",
    "ax.set_xlabel('Time [ms]')\n",
    "ax.set_ylabel('Number of jobs')\n",
    "plt.legend()\n",
    "plt.savefig('q1_job.png', dpi=300)"
   ]
  },
  {
   "cell_type": "code",
   "execution_count": null,
   "metadata": {},
   "outputs": [],
   "source": [
    "fig, ax = plt.subplots(1, 1, figsize=(10,5))\n",
    "\n",
    "x0, y0 = list(zip(*buffer_t1))\n",
    "x1, y1 = list(zip(*buffer_t2))\n",
    "\n",
    "ax.step(x0, y0, c='m', label='type 1 jobs')\n",
    "ax.step(x1, y1, c='g', label='type 2 jobs')\n",
    "ax.set_title('Number of jobs in the processor queue')\n",
    "ax.set_xlabel('Time [ms]')\n",
    "ax.set_ylabel('Number of jobs')\n",
    "plt.legend()\n",
    "plt.savefig('q1_job.png', dpi=300)"
   ]
  },
  {
   "cell_type": "code",
   "execution_count": null,
   "metadata": {},
   "outputs": [],
   "source": []
  },
  {
   "cell_type": "code",
   "execution_count": null,
   "metadata": {},
   "outputs": [],
   "source": []
  }
 ],
 "metadata": {
  "kernelspec": {
   "display_name": "Python 3",
   "language": "python",
   "name": "python3"
  },
  "language_info": {
   "codemirror_mode": {
    "name": "ipython",
    "version": 3
   },
   "file_extension": ".py",
   "mimetype": "text/x-python",
   "name": "python",
   "nbconvert_exporter": "python",
   "pygments_lexer": "ipython3",
   "version": "3.5.5"
  }
 },
 "nbformat": 4,
 "nbformat_minor": 2
}
